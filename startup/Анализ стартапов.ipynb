{
 "cells": [
  {
   "cell_type": "markdown",
   "id": "0835a93f",
   "metadata": {},
   "source": [
    "# Исследование стартапов\n",
    "\n",
    "- Автор: Проценко Игорь\n",
    "- Дата: 16.07.2025"
   ]
  },
  {
   "cell_type": "markdown",
   "id": "f0207565",
   "metadata": {},
   "source": [
    "## Цель и задачи\n",
    "\n",
    "**Цель:** Подготовить единный датасет объединив несколько и провести исследовательский анализ инвестиционного рынка с прицелом на покупку, развитие и последующую перепродажу перспективных стартапов.\n",
    "\n",
    "**Задачи:**\n",
    "\n",
    "- Загрузить данные и познакомиться с их содержимым.\n",
    "- Провести предобработку данных.\n",
    "- Провести исследовательский анализ данных:\n",
    "- Сформулировать выводы по проведённому анализу.\n",
    "\n",
    "---\n"
   ]
  },
  {
   "cell_type": "markdown",
   "id": "474efede",
   "metadata": {},
   "source": [
    "## Данные\n",
    "\n",
    "Для анализа поступили данные о покупках одними компаниями других компаний, раундах финансирования, информации сотрудников (тип образования, учебные заведения и т.д.). \n",
    "\n",
    "Данные состоят из пяти датасетов:\n",
    "\n",
    "`company_and_rounds.csv` — содержит информацию о компаниях и раундах финансирования;\n",
    "\n",
    "`acquisition.csv` — содержит информацию о покупках одними компаниями других компаний;\n",
    "\n",
    "`people.csv` — cодержит информацию о сотрудниках;\n",
    "\n",
    "`education.csv` — cодержит информацию об образовании сотрудника;\n",
    "\n",
    "`degrees.csv` — cодержит информацию о типе образования сотрудника;\n",
    "\n",
    "---"
   ]
  },
  {
   "cell_type": "markdown",
   "id": "a1a0eee9",
   "metadata": {},
   "source": [
    "### Таблица company_and_rounds\n",
    "\n",
    "- `company ID` — идентификатор компании.\n",
    "- `name` — название компании.\n",
    "- `category code` — категория области деятельности компании.\n",
    "- `status` — статус компании.\n",
    "- `founded at` — дата инвестирования.\n",
    "- `closed at` — дата закрытия компании.\n",
    "- `domain` — официальный сайт компании.\n",
    "- `network username` — ник компании в сети.\n",
    "- `country code` — код страны компании.\n",
    "- `investment rounds` — число инвестиционных раундов.\n",
    "- `funding rounds` — число раундов финансирования.\n",
    "- `funding total` — сумма финансирования.\n",
    "- `milestones` — вехи финансирования.\n",
    "- `funding round id` — идентификатор этапа финансирования.\n",
    "- `company id` — идентификатор компании.\n",
    "- `funded at` — дата финансирования.\n",
    "- `funding round type` — тип финансирования.\n",
    "- `raised amount` — сумма финансирования.\n",
    "- `pre money valuation` — предварительная денежная оценка.\n",
    "- `participants` — число участников.\n",
    "- `is first round` — является ли раунд первым.\n",
    "- `is last round` — является раунд последним.\n",
    "\n",
    "---"
   ]
  },
  {
   "cell_type": "markdown",
   "id": "878660fb",
   "metadata": {},
   "source": [
    "### Таблица acquisition\n",
    "\n",
    "- `id` — идентификатор покупки.\n",
    "- `acquiring_company_id` — идентификатор покупающей компании.\n",
    "- `acquired_company_id` — идентификатор покупаемой компании.\n",
    "- `term_code` — варианты расчёта.\n",
    "- `price_amount` — сумма сделки.\n",
    "- `acquired_at` — дата сделки.\n",
    "\n",
    "---"
   ]
  },
  {
   "cell_type": "markdown",
   "id": "d81f0984",
   "metadata": {},
   "source": [
    "### Таблица people\n",
    "\n",
    "- `id` — идентификатор сотрудника.\n",
    "- `first_name` — имя сотрудника.\n",
    "- `last_name` — фамилия сотрудника.\n",
    "- `company_id` — идентификатор компании.\n",
    "- `network_username` — ник в социальных сетях.\n",
    "\n",
    "---"
   ]
  },
  {
   "cell_type": "markdown",
   "id": "867fd771",
   "metadata": {},
   "source": [
    "### Таблица education\n",
    "\n",
    "- `id` — идентификатор записи об образовании.\n",
    "- `person_id` — идентификатор работника.\n",
    "- `instituition` — название учебного заведения.\n",
    "- `graduated_at` — дата получения образования.\n",
    "\n",
    "---"
   ]
  },
  {
   "cell_type": "markdown",
   "id": "08ba06f7",
   "metadata": {},
   "source": [
    "### Таблица degrees\n",
    "\n",
    "- `id` — идентификатор записи.\n",
    "- `object_id` — идентификатор сотрудника.\n",
    "- `degree_type` — тип образования.\n",
    "- `subject` — специальность.\n",
    "\n",
    "---"
   ]
  },
  {
   "cell_type": "markdown",
   "id": "c50f1d83",
   "metadata": {},
   "source": [
    "## Структура проекта\n",
    "\n",
    "1) Знакомство с данными: загрузка и первичная предобработка\n",
    "\n",
    "2) Предобработка данных, предварительное исследование\n",
    "\n",
    "3) Исследовательский анализ данных.\n",
    "\n",
    "4) Итоговые выводы."
   ]
  },
  {
   "cell_type": "markdown",
   "id": "1974eee9",
   "metadata": {},
   "source": [
    "## 1. Знакомство с данными: загрузка и первичная предобработка\n",
    "\n",
    "Начнём с загрузки библиотек и датасетов `company_and_rounds.csv`,`acquisition.csv`,`people.csv`,`education.csv` и `degrees.csv`. \n",
    "Будем использовать pandas и библиотеки визуализации данных matplotlib и seaborn, а также phik для построения матрицы корреляции. \n",
    "Данные датасетов сохраним в переменных: `company_and_rounds_df`,`acquisition_df`,`people_df`,`education_df` и `degrees_df`."
   ]
  },
  {
   "cell_type": "code",
   "execution_count": 1,
   "id": "217cb519",
   "metadata": {
    "scrolled": false
   },
   "outputs": [],
   "source": [
    "# Импортируем библиотеки\n",
    "import pandas as pd\n",
    "import os\n",
    "import numpy as np\n",
    "!pip install matplotlib-venn -q\n",
    "from matplotlib_venn import venn2\n",
    "\n",
    "# Загружаем библиотеки для визуализации данных\n",
    "import matplotlib.pyplot as plt\n",
    "import seaborn as sns"
   ]
  },
  {
   "cell_type": "markdown",
   "id": "31f88055",
   "metadata": {},
   "source": [
    "## 1.1. Загрузка и знакомство с таблицами"
   ]
  },
  {
   "cell_type": "code",
   "execution_count": 2,
   "id": "8ab03d73",
   "metadata": {},
   "outputs": [
    {
     "name": "stdout",
     "output_type": "stream",
     "text": [
      "Попытка загрузки company_and_rounds.csv с сервера...\n",
      "Успешно загружен company_and_rounds.csv с сервера\n",
      "Попытка загрузки acquisition.csv с сервера...\n",
      "Успешно загружен acquisition.csv с сервера\n",
      "Попытка загрузки people.csv с сервера...\n",
      "Успешно загружен people.csv с сервера\n",
      "Попытка загрузки education.csv с сервера...\n",
      "Успешно загружен education.csv с сервера\n",
      "Попытка загрузки degrees.csv с сервера...\n",
      "Успешно загружен degrees.csv с сервера\n"
     ]
    }
   ],
   "source": [
    "# Пути для разных окружений (URL и локальные)\n",
    "base_url = 'https://code.s3.yandex.net/datasets/'\n",
    "local_dir = 'data/'\n",
    "\n",
    "# Функция загрузки данных\n",
    "def safe_load(filename):\n",
    "    url_path = base_url + filename\n",
    "    local_path = local_dir + filename\n",
    "    \n",
    "    try:\n",
    "        # Пробуем загрузить с основного URL\n",
    "        print(f\"Попытка загрузки {filename} с сервера...\")\n",
    "        df = pd.read_csv(url_path)\n",
    "        print(f\"Успешно загружен {filename} с сервера\")\n",
    "        return df\n",
    "    except FileNotFoundError:\n",
    "            # Если файла нет нигде, предупреждаем\n",
    "            print(f\"Файл {filename} не найден ни на сервере, ни локально!\")\n",
    "\n",
    "# Загружаем все датафреймы с обработкой ошибок\n",
    "company_and_rounds_df = safe_load('company_and_rounds.csv')\n",
    "acquisition_df = safe_load('acquisition.csv')\n",
    "people_df = safe_load('people.csv')\n",
    "education_df = safe_load('education.csv')\n",
    "degrees_df = safe_load('degrees.csv')"
   ]
  },
  {
   "cell_type": "markdown",
   "id": "02ac3071",
   "metadata": {},
   "source": [
    "## Знакомство с таблицей company_and_rounds (Раунды компаний)"
   ]
  },
  {
   "cell_type": "markdown",
   "id": "329c50e3",
   "metadata": {},
   "source": [
    "### Описание таблицы company_and_rounds\n",
    "\n",
    "- `company ID` — идентификатор компании.\n",
    "- `name` — название компании.\n",
    "- `category code` — категория области деятельности компании.\n",
    "- `status` — статус компании.\n",
    "- `founded at` — дата инвестирования.\n",
    "- `closed at` — дата закрытия компании.\n",
    "- `domain` — официальный сайт компании.\n",
    "- `network username` — ник компании в сети.\n",
    "- `country code` — код страны компании.\n",
    "- `investment rounds` — число инвестиционных раундов.\n",
    "- `funding rounds` — число раундов финансирования.\n",
    "- `funding total` — сумма финансирования.\n",
    "- `milestones` — вехи финансирования.\n",
    "- `funding round id` — идентификатор этапа финансирования.\n",
    "- `company id` — идентификатор компании.\n",
    "- `funded at` — дата финансирования.\n",
    "- `funding round type` — тип финансирования.\n",
    "- `raised amount` — сумма финансирования.\n",
    "- `pre money valuation` — предварительная денежная оценка.\n",
    "- `participants` — число участников.\n",
    "- `is first round` — является ли раунд первым.\n",
    "- `is last round` — является раунд последним.\n",
    "\n",
    "---"
   ]
  },
  {
   "cell_type": "markdown",
   "id": "3ed66cfd",
   "metadata": {},
   "source": [
    "Познакомимся с данными `company_and_rounds_df` — выведем первые строки методом head(),\n",
    "\n",
    "а информацию о датафрейме методом info():"
   ]
  },
  {
   "cell_type": "code",
   "execution_count": 3,
   "id": "2e38df5f",
   "metadata": {
    "scrolled": true
   },
   "outputs": [
    {
     "data": {
      "text/html": [
       "<div>\n",
       "<style scoped>\n",
       "    .dataframe tbody tr th:only-of-type {\n",
       "        vertical-align: middle;\n",
       "    }\n",
       "\n",
       "    .dataframe tbody tr th {\n",
       "        vertical-align: top;\n",
       "    }\n",
       "\n",
       "    .dataframe thead th {\n",
       "        text-align: right;\n",
       "    }\n",
       "</style>\n",
       "<table border=\"1\" class=\"dataframe\">\n",
       "  <thead>\n",
       "    <tr style=\"text-align: right;\">\n",
       "      <th></th>\n",
       "      <th>company  ID</th>\n",
       "      <th>name</th>\n",
       "      <th>category  code</th>\n",
       "      <th>status</th>\n",
       "      <th>founded  at</th>\n",
       "      <th>closed  at</th>\n",
       "      <th>domain</th>\n",
       "      <th>network  username</th>\n",
       "      <th>country  code</th>\n",
       "      <th>investment  rounds</th>\n",
       "      <th>...</th>\n",
       "      <th>milestones</th>\n",
       "      <th>funding  round  id</th>\n",
       "      <th>company  id</th>\n",
       "      <th>funded  at</th>\n",
       "      <th>funding  round  type</th>\n",
       "      <th>raised  amount</th>\n",
       "      <th>pre  money  valuation</th>\n",
       "      <th>participants</th>\n",
       "      <th>is  first  round</th>\n",
       "      <th>is  last  round</th>\n",
       "    </tr>\n",
       "  </thead>\n",
       "  <tbody>\n",
       "    <tr>\n",
       "      <th>0</th>\n",
       "      <td>1.0</td>\n",
       "      <td>Wetpaint</td>\n",
       "      <td>web</td>\n",
       "      <td>operating</td>\n",
       "      <td>2005-10-17</td>\n",
       "      <td>NaN</td>\n",
       "      <td>wetpaint-inc.com</td>\n",
       "      <td>BachelrWetpaint</td>\n",
       "      <td>USA</td>\n",
       "      <td>0.0</td>\n",
       "      <td>...</td>\n",
       "      <td>5.0</td>\n",
       "      <td>888.0</td>\n",
       "      <td>1.0</td>\n",
       "      <td>2005-10-01</td>\n",
       "      <td>series-a</td>\n",
       "      <td>5250000.0</td>\n",
       "      <td>0.0</td>\n",
       "      <td>2.0</td>\n",
       "      <td>0.0</td>\n",
       "      <td>1.0</td>\n",
       "    </tr>\n",
       "    <tr>\n",
       "      <th>1</th>\n",
       "      <td>1.0</td>\n",
       "      <td>Wetpaint</td>\n",
       "      <td>web</td>\n",
       "      <td>operating</td>\n",
       "      <td>2005-10-17</td>\n",
       "      <td>NaN</td>\n",
       "      <td>wetpaint-inc.com</td>\n",
       "      <td>BachelrWetpaint</td>\n",
       "      <td>USA</td>\n",
       "      <td>0.0</td>\n",
       "      <td>...</td>\n",
       "      <td>5.0</td>\n",
       "      <td>889.0</td>\n",
       "      <td>1.0</td>\n",
       "      <td>2007-01-01</td>\n",
       "      <td>series-b</td>\n",
       "      <td>9500000.0</td>\n",
       "      <td>0.0</td>\n",
       "      <td>3.0</td>\n",
       "      <td>0.0</td>\n",
       "      <td>0.0</td>\n",
       "    </tr>\n",
       "    <tr>\n",
       "      <th>2</th>\n",
       "      <td>1.0</td>\n",
       "      <td>Wetpaint</td>\n",
       "      <td>web</td>\n",
       "      <td>operating</td>\n",
       "      <td>2005-10-17</td>\n",
       "      <td>NaN</td>\n",
       "      <td>wetpaint-inc.com</td>\n",
       "      <td>BachelrWetpaint</td>\n",
       "      <td>USA</td>\n",
       "      <td>0.0</td>\n",
       "      <td>...</td>\n",
       "      <td>5.0</td>\n",
       "      <td>2312.0</td>\n",
       "      <td>1.0</td>\n",
       "      <td>2008-05-19</td>\n",
       "      <td>series-c+</td>\n",
       "      <td>25000000.0</td>\n",
       "      <td>0.0</td>\n",
       "      <td>4.0</td>\n",
       "      <td>1.0</td>\n",
       "      <td>0.0</td>\n",
       "    </tr>\n",
       "    <tr>\n",
       "      <th>3</th>\n",
       "      <td>10.0</td>\n",
       "      <td>Flektor</td>\n",
       "      <td>games_video</td>\n",
       "      <td>acquired</td>\n",
       "      <td>NaN</td>\n",
       "      <td>NaN</td>\n",
       "      <td>flektor.com</td>\n",
       "      <td>NaN</td>\n",
       "      <td>USA</td>\n",
       "      <td>0.0</td>\n",
       "      <td>...</td>\n",
       "      <td>0.0</td>\n",
       "      <td>NaN</td>\n",
       "      <td>NaN</td>\n",
       "      <td>NaN</td>\n",
       "      <td>NaN</td>\n",
       "      <td>NaN</td>\n",
       "      <td>NaN</td>\n",
       "      <td>NaN</td>\n",
       "      <td>NaN</td>\n",
       "      <td>NaN</td>\n",
       "    </tr>\n",
       "    <tr>\n",
       "      <th>4</th>\n",
       "      <td>100.0</td>\n",
       "      <td>There</td>\n",
       "      <td>games_video</td>\n",
       "      <td>acquired</td>\n",
       "      <td>NaN</td>\n",
       "      <td>NaN</td>\n",
       "      <td>there.com</td>\n",
       "      <td>NaN</td>\n",
       "      <td>USA</td>\n",
       "      <td>0.0</td>\n",
       "      <td>...</td>\n",
       "      <td>4.0</td>\n",
       "      <td>NaN</td>\n",
       "      <td>NaN</td>\n",
       "      <td>NaN</td>\n",
       "      <td>NaN</td>\n",
       "      <td>NaN</td>\n",
       "      <td>NaN</td>\n",
       "      <td>NaN</td>\n",
       "      <td>NaN</td>\n",
       "      <td>NaN</td>\n",
       "    </tr>\n",
       "  </tbody>\n",
       "</table>\n",
       "<p>5 rows × 22 columns</p>\n",
       "</div>"
      ],
      "text/plain": [
       "   company  ID      name category  code     status founded  at closed  at  \\\n",
       "0          1.0  Wetpaint            web  operating  2005-10-17        NaN   \n",
       "1          1.0  Wetpaint            web  operating  2005-10-17        NaN   \n",
       "2          1.0  Wetpaint            web  operating  2005-10-17        NaN   \n",
       "3         10.0   Flektor    games_video   acquired         NaN        NaN   \n",
       "4        100.0     There    games_video   acquired         NaN        NaN   \n",
       "\n",
       "             domain network  username country  code  investment  rounds  ...  \\\n",
       "0  wetpaint-inc.com   BachelrWetpaint           USA                 0.0  ...   \n",
       "1  wetpaint-inc.com   BachelrWetpaint           USA                 0.0  ...   \n",
       "2  wetpaint-inc.com   BachelrWetpaint           USA                 0.0  ...   \n",
       "3       flektor.com               NaN           USA                 0.0  ...   \n",
       "4         there.com               NaN           USA                 0.0  ...   \n",
       "\n",
       "   milestones  funding  round  id  company  id  funded  at  \\\n",
       "0         5.0               888.0          1.0  2005-10-01   \n",
       "1         5.0               889.0          1.0  2007-01-01   \n",
       "2         5.0              2312.0          1.0  2008-05-19   \n",
       "3         0.0                 NaN          NaN         NaN   \n",
       "4         4.0                 NaN          NaN         NaN   \n",
       "\n",
       "   funding  round  type raised  amount pre  money  valuation  participants  \\\n",
       "0              series-a      5250000.0                   0.0           2.0   \n",
       "1              series-b      9500000.0                   0.0           3.0   \n",
       "2             series-c+     25000000.0                   0.0           4.0   \n",
       "3                   NaN            NaN                   NaN           NaN   \n",
       "4                   NaN            NaN                   NaN           NaN   \n",
       "\n",
       "   is  first  round  is  last  round  \n",
       "0               0.0              1.0  \n",
       "1               0.0              0.0  \n",
       "2               1.0              0.0  \n",
       "3               NaN              NaN  \n",
       "4               NaN              NaN  \n",
       "\n",
       "[5 rows x 22 columns]"
      ]
     },
     "execution_count": 3,
     "metadata": {},
     "output_type": "execute_result"
    }
   ],
   "source": [
    "company_and_rounds_df.head()"
   ]
  },
  {
   "cell_type": "code",
   "execution_count": 4,
   "id": "35de32ed",
   "metadata": {},
   "outputs": [
    {
     "name": "stdout",
     "output_type": "stream",
     "text": [
      "<class 'pandas.core.frame.DataFrame'>\n",
      "RangeIndex: 217774 entries, 0 to 217773\n",
      "Data columns (total 22 columns):\n",
      " #   Column                 Non-Null Count   Dtype  \n",
      "---  ------                 --------------   -----  \n",
      " 0   company  ID            217472 non-null  float64\n",
      " 1   name                   217472 non-null  object \n",
      " 2   category  code         143886 non-null  object \n",
      " 3   status                 217472 non-null  object \n",
      " 4   founded  at            109956 non-null  object \n",
      " 5   closed  at             3449 non-null    object \n",
      " 6   domain                 147159 non-null  object \n",
      " 7   network  username      95534 non-null   object \n",
      " 8   country  code          108607 non-null  object \n",
      " 9   investment  rounds     217472 non-null  float64\n",
      " 10  funding  rounds        217472 non-null  float64\n",
      " 11  funding  total         217472 non-null  float64\n",
      " 12  milestones             217472 non-null  float64\n",
      " 13  funding  round  id     52928 non-null   float64\n",
      " 14  company  id            52928 non-null   float64\n",
      " 15  funded  at             52680 non-null   object \n",
      " 16  funding  round  type   52928 non-null   object \n",
      " 17  raised  amount         52928 non-null   float64\n",
      " 18  pre  money  valuation  52928 non-null   float64\n",
      " 19  participants           52928 non-null   float64\n",
      " 20  is  first  round       52928 non-null   float64\n",
      " 21  is  last  round        52928 non-null   float64\n",
      "dtypes: float64(12), object(10)\n",
      "memory usage: 36.6+ MB\n"
     ]
    }
   ],
   "source": [
    "company_and_rounds_df.info()"
   ]
  },
  {
   "cell_type": "markdown",
   "id": "33260b0c",
   "metadata": {},
   "source": [
    "Датасет `company_and_rounds` содержит 22 столбца и 217 774 строк, в которых представлена информация о компаниях и раундах финансирования.\n",
    "\n",
    "После первичного анализа данных можно сделать следующие выводы:\n",
    "\n",
    "- Названия столбцов **имеют лишние пробелы в названиях, которые нужно будет привести в корректный вид (snake case).**\n",
    "\n",
    "\n",
    "- 10 столбцов датасета имеют тип object, 12 столбцов тип float64.\n",
    "\n",
    "- **Присутствуют дублирующиеся столбцы:**\n",
    "  - `company  id` и `company  ID` имеют одинаковое назначение\n",
    "  \n",
    "- **Пропуски содержатся:**\n",
    "  - В столбце `category  code` - MСAR (объясняются ошибкой при ручном сборе)\n",
    "  - В столбце `founded  at` - MNAR (объясняются отсутствием раундов)\n",
    "  - В столбце `closed  at` - MNAR (объясняются тем, что компании еще могут работать)\n",
    "  - В столбце `domain` - MСAR (объясняются ошибкой при ручном сборе или компания на очень раннем этапе создания) \n",
    "  - В столбце `network  username` - MСAR (объясняются ошибкой при ручном сборе или компания на очень раннем этапе создания)\n",
    "  - В столбце `country  code` - MСAR (объясняются ошибкой при ручном сборе)\n",
    "  - В столбце `funding  round  id`- MNAR (объясняются отсутствием раундов)\n",
    "  - В столбце `company  id`  - MСAR (объясняются ошибкой при ручном сборе)\n",
    "  - В столбце `funded  at`- MNAR (объясняются отсутствием раундов)\n",
    "  - В столбце `funding  round  type` - MNAR (объясняются отсутствием раундов)\n",
    "  - В столбце `company  id` - MСAR (объясняются ошибкой при ручном сборе, так как столбец имеет копию)\n",
    "  - В столбце `funded  at`- MNAR (объясняются отсутствием раундов)\n",
    "  - В столбце `funding  round  type`- MNAR (объясняются отсутствием раундов)\n",
    "  - В столбце `raised  amount`- MNAR (объясняются отсутствием раундов)\n",
    "  - В столбце `pre  money  valuation` - MNAR (компания может быть на очень раннем этапе развития и не иметь оценки)\n",
    "  - В столбце `participants`- MNAR (объясняются отсутствием раундов)\n",
    "  - В столбце `is  first  round`- MNAR (объясняются отсутствием раундов)\n",
    "  - В столбце `is  last  round`- MNAR (объясняются отсутствием раундов)\n",
    "  \n",
    "\n",
    "Судя по первому знакомству с данными, значения в столбцах соответствуют своему описанию но требуют предобработки.\n",
    "\n",
    "Теперь познакомимся с данными датасета `acquisition_df`"
   ]
  },
  {
   "cell_type": "markdown",
   "id": "b514ce8e",
   "metadata": {},
   "source": [
    "## Знакомство с таблицей acquisition (Покупка / продажа компаний)"
   ]
  },
  {
   "cell_type": "markdown",
   "id": "81c63441",
   "metadata": {},
   "source": [
    "### Описание таблицы acquisition\n",
    "\n",
    "- `id` — идентификатор покупки.\n",
    "- `acquiring_company_id` — идентификатор покупающей компании.\n",
    "- `acquired_company_id` — идентификатор покупаемой компании.\n",
    "- `term_code` — варианты расчёта.\n",
    "- `price_amount` — сумма сделки.\n",
    "- `acquired_at` — дата сделки.\n",
    "\n",
    "---"
   ]
  },
  {
   "cell_type": "code",
   "execution_count": 5,
   "id": "fa86ab37",
   "metadata": {
    "scrolled": true
   },
   "outputs": [
    {
     "data": {
      "text/html": [
       "<div>\n",
       "<style scoped>\n",
       "    .dataframe tbody tr th:only-of-type {\n",
       "        vertical-align: middle;\n",
       "    }\n",
       "\n",
       "    .dataframe tbody tr th {\n",
       "        vertical-align: top;\n",
       "    }\n",
       "\n",
       "    .dataframe thead th {\n",
       "        text-align: right;\n",
       "    }\n",
       "</style>\n",
       "<table border=\"1\" class=\"dataframe\">\n",
       "  <thead>\n",
       "    <tr style=\"text-align: right;\">\n",
       "      <th></th>\n",
       "      <th>id</th>\n",
       "      <th>acquiring_company_id</th>\n",
       "      <th>acquired_company_id</th>\n",
       "      <th>term_code</th>\n",
       "      <th>price_amount</th>\n",
       "      <th>acquired_at</th>\n",
       "    </tr>\n",
       "  </thead>\n",
       "  <tbody>\n",
       "    <tr>\n",
       "      <th>0</th>\n",
       "      <td>1</td>\n",
       "      <td>11</td>\n",
       "      <td>10</td>\n",
       "      <td>NaN</td>\n",
       "      <td>20000000</td>\n",
       "      <td>2007-05-30</td>\n",
       "    </tr>\n",
       "    <tr>\n",
       "      <th>1</th>\n",
       "      <td>7</td>\n",
       "      <td>59</td>\n",
       "      <td>72</td>\n",
       "      <td>cash</td>\n",
       "      <td>60000000</td>\n",
       "      <td>2007-07-01</td>\n",
       "    </tr>\n",
       "    <tr>\n",
       "      <th>2</th>\n",
       "      <td>8</td>\n",
       "      <td>24</td>\n",
       "      <td>132</td>\n",
       "      <td>cash</td>\n",
       "      <td>280000000</td>\n",
       "      <td>2007-05-01</td>\n",
       "    </tr>\n",
       "    <tr>\n",
       "      <th>3</th>\n",
       "      <td>9</td>\n",
       "      <td>59</td>\n",
       "      <td>155</td>\n",
       "      <td>cash</td>\n",
       "      <td>100000000</td>\n",
       "      <td>2007-06-01</td>\n",
       "    </tr>\n",
       "    <tr>\n",
       "      <th>4</th>\n",
       "      <td>10</td>\n",
       "      <td>212</td>\n",
       "      <td>215</td>\n",
       "      <td>cash</td>\n",
       "      <td>25000000</td>\n",
       "      <td>2007-07-01</td>\n",
       "    </tr>\n",
       "  </tbody>\n",
       "</table>\n",
       "</div>"
      ],
      "text/plain": [
       "   id  acquiring_company_id  acquired_company_id term_code  price_amount  \\\n",
       "0   1                    11                   10       NaN      20000000   \n",
       "1   7                    59                   72      cash      60000000   \n",
       "2   8                    24                  132      cash     280000000   \n",
       "3   9                    59                  155      cash     100000000   \n",
       "4  10                   212                  215      cash      25000000   \n",
       "\n",
       "  acquired_at  \n",
       "0  2007-05-30  \n",
       "1  2007-07-01  \n",
       "2  2007-05-01  \n",
       "3  2007-06-01  \n",
       "4  2007-07-01  "
      ]
     },
     "execution_count": 5,
     "metadata": {},
     "output_type": "execute_result"
    }
   ],
   "source": [
    "acquisition_df.head()"
   ]
  },
  {
   "cell_type": "code",
   "execution_count": 6,
   "id": "202cb2a5",
   "metadata": {
    "scrolled": true
   },
   "outputs": [
    {
     "name": "stdout",
     "output_type": "stream",
     "text": [
      "<class 'pandas.core.frame.DataFrame'>\n",
      "RangeIndex: 9407 entries, 0 to 9406\n",
      "Data columns (total 6 columns):\n",
      " #   Column                Non-Null Count  Dtype \n",
      "---  ------                --------------  ----- \n",
      " 0   id                    9407 non-null   int64 \n",
      " 1   acquiring_company_id  9407 non-null   int64 \n",
      " 2   acquired_company_id   9407 non-null   int64 \n",
      " 3   term_code             1831 non-null   object\n",
      " 4   price_amount          9407 non-null   int64 \n",
      " 5   acquired_at           9378 non-null   object\n",
      "dtypes: int64(4), object(2)\n",
      "memory usage: 441.1+ KB\n"
     ]
    }
   ],
   "source": [
    "acquisition_df.info()"
   ]
  },
  {
   "cell_type": "markdown",
   "id": "11cdbf9e",
   "metadata": {},
   "source": [
    "Датасет `acquisition_df` содержит 6 столбцов и 9407 строк, в которых представлена информацию о покупках одними компаниями других компаний.\n",
    "\n",
    "После первичного анализа данных можно сделать следующие выводы:\n",
    "\n",
    "- Названия столбцов **имеют корректный вид (snake case).**\n",
    "\n",
    "\n",
    "- 4 столбцов датасета имеют тип int64, 2 столбца тип object.\n",
    "\n",
    "  \n",
    "- **Пропуски содержатся:**\n",
    "  - В столбце `term_code` - MСAR (объясняются ошибкой при ручном сборе)\n",
    "  - В столбце `acquired_at`- MСAR (объясняются ошибкой при ручном сборе)\n",
    "  \n",
    "\n",
    "Судя по первому знакомству с данными, значения в столбцах соответствуют своему описанию и не требуют предобработки.\n",
    "\n",
    "Теперь познакомимся с данными датасета `people_df`"
   ]
  },
  {
   "cell_type": "markdown",
   "id": "a230a5f3",
   "metadata": {},
   "source": [
    "## Знакомство с таблицей people (Сотрудники компаний)"
   ]
  },
  {
   "cell_type": "markdown",
   "id": "6dc146e2",
   "metadata": {},
   "source": [
    "### Описание таблицы people\n",
    "\n",
    "- `id` — идентификатор сотрудника.\n",
    "- `first_name` — имя сотрудника.\n",
    "- `last_name` — фамилия сотрудника.\n",
    "- `company_id` — идентификатор компании.\n",
    "- `network_username` — ник в социальных сетях.\n",
    "\n",
    "---"
   ]
  },
  {
   "cell_type": "code",
   "execution_count": 7,
   "id": "1c1133fc",
   "metadata": {},
   "outputs": [
    {
     "data": {
      "text/html": [
       "<div>\n",
       "<style scoped>\n",
       "    .dataframe tbody tr th:only-of-type {\n",
       "        vertical-align: middle;\n",
       "    }\n",
       "\n",
       "    .dataframe tbody tr th {\n",
       "        vertical-align: top;\n",
       "    }\n",
       "\n",
       "    .dataframe thead th {\n",
       "        text-align: right;\n",
       "    }\n",
       "</style>\n",
       "<table border=\"1\" class=\"dataframe\">\n",
       "  <thead>\n",
       "    <tr style=\"text-align: right;\">\n",
       "      <th></th>\n",
       "      <th>id</th>\n",
       "      <th>first_name</th>\n",
       "      <th>last_name</th>\n",
       "      <th>company_id</th>\n",
       "      <th>network_username</th>\n",
       "    </tr>\n",
       "  </thead>\n",
       "  <tbody>\n",
       "    <tr>\n",
       "      <th>0</th>\n",
       "      <td>10</td>\n",
       "      <td>Mark</td>\n",
       "      <td>Zuckerberg</td>\n",
       "      <td>5.0</td>\n",
       "      <td>NaN</td>\n",
       "    </tr>\n",
       "    <tr>\n",
       "      <th>1</th>\n",
       "      <td>100</td>\n",
       "      <td>Peter</td>\n",
       "      <td>Lester</td>\n",
       "      <td>27.0</td>\n",
       "      <td>NaN</td>\n",
       "    </tr>\n",
       "    <tr>\n",
       "      <th>2</th>\n",
       "      <td>1000</td>\n",
       "      <td>Dr. Steven</td>\n",
       "      <td>E. Saunders</td>\n",
       "      <td>292.0</td>\n",
       "      <td>NaN</td>\n",
       "    </tr>\n",
       "    <tr>\n",
       "      <th>3</th>\n",
       "      <td>10000</td>\n",
       "      <td>Neil</td>\n",
       "      <td>Capel</td>\n",
       "      <td>2526.0</td>\n",
       "      <td>NaN</td>\n",
       "    </tr>\n",
       "    <tr>\n",
       "      <th>4</th>\n",
       "      <td>100000</td>\n",
       "      <td>Sue</td>\n",
       "      <td>Pilsch</td>\n",
       "      <td>NaN</td>\n",
       "      <td>NaN</td>\n",
       "    </tr>\n",
       "  </tbody>\n",
       "</table>\n",
       "</div>"
      ],
      "text/plain": [
       "       id  first_name    last_name  company_id network_username\n",
       "0      10        Mark   Zuckerberg         5.0              NaN\n",
       "1     100       Peter       Lester        27.0              NaN\n",
       "2    1000  Dr. Steven  E. Saunders       292.0              NaN\n",
       "3   10000        Neil        Capel      2526.0              NaN\n",
       "4  100000         Sue       Pilsch         NaN              NaN"
      ]
     },
     "execution_count": 7,
     "metadata": {},
     "output_type": "execute_result"
    }
   ],
   "source": [
    "people_df.head()"
   ]
  },
  {
   "cell_type": "code",
   "execution_count": 8,
   "id": "295e18bd",
   "metadata": {},
   "outputs": [
    {
     "name": "stdout",
     "output_type": "stream",
     "text": [
      "<class 'pandas.core.frame.DataFrame'>\n",
      "RangeIndex: 226709 entries, 0 to 226708\n",
      "Data columns (total 5 columns):\n",
      " #   Column            Non-Null Count   Dtype  \n",
      "---  ------            --------------   -----  \n",
      " 0   id                226709 non-null  int64  \n",
      " 1   first_name        226704 non-null  object \n",
      " 2   last_name         226708 non-null  object \n",
      " 3   company_id        34615 non-null   float64\n",
      " 4   network_username  38867 non-null   object \n",
      "dtypes: float64(1), int64(1), object(3)\n",
      "memory usage: 8.6+ MB\n"
     ]
    }
   ],
   "source": [
    "people_df.info()"
   ]
  },
  {
   "cell_type": "markdown",
   "id": "3909980d",
   "metadata": {},
   "source": [
    "Датасет `people_df` содержит 5 столбцов и 226 709 строк, в которых представлена информацию о сотрудниках компаний.\n",
    "\n",
    "После первичного анализа данных можно сделать следующие выводы:\n",
    "\n",
    "- Названия столбцов **имеют корректный вид (snake case).**\n",
    "\n",
    "\n",
    "- 3 столбцов датасета имеют тип object, 1 столбец тип int64, 1 столбец тип float64.\n",
    "\n",
    "  \n",
    "- **Пропуски содержатся:**\n",
    "  - В столбце `company_id` - MСAR (объясняются ошибкой при ручном сборе)\n",
    "  - В столбце `network_username`- MNAR (объясняются отсутствием информации о соц сетях пользователей)\n",
    "  \n",
    "\n",
    "Судя по первому знакомству с данными, значения в столбцах соответствуют своему описанию.\n",
    "\n",
    "Отсутствие огромного количества информации в поле `company_id` говорит о том, что в дальнейшем анализе не получится использовать всю информацию для сопоставления с другими данными.\n",
    "\n",
    "Теперь познакомимся с данными датасета `education_df`"
   ]
  },
  {
   "cell_type": "markdown",
   "id": "27d02ed0",
   "metadata": {},
   "source": [
    "## Знакомство с таблицей education (Учебные заведения сотрудников)"
   ]
  },
  {
   "cell_type": "markdown",
   "id": "e5aeb985",
   "metadata": {},
   "source": [
    "### Описание таблицы education\n",
    "\n",
    "- `id` — идентификатор записи об образовании.\n",
    "- `person_id` — идентификатор работника.\n",
    "- `instituition` — название учебного заведения.\n",
    "- `graduated_at` — дата получения образования.\n",
    "\n",
    "---"
   ]
  },
  {
   "cell_type": "code",
   "execution_count": 9,
   "id": "b7fdb5af",
   "metadata": {},
   "outputs": [
    {
     "data": {
      "text/html": [
       "<div>\n",
       "<style scoped>\n",
       "    .dataframe tbody tr th:only-of-type {\n",
       "        vertical-align: middle;\n",
       "    }\n",
       "\n",
       "    .dataframe tbody tr th {\n",
       "        vertical-align: top;\n",
       "    }\n",
       "\n",
       "    .dataframe thead th {\n",
       "        text-align: right;\n",
       "    }\n",
       "</style>\n",
       "<table border=\"1\" class=\"dataframe\">\n",
       "  <thead>\n",
       "    <tr style=\"text-align: right;\">\n",
       "      <th></th>\n",
       "      <th>id</th>\n",
       "      <th>person_id</th>\n",
       "      <th>instituition</th>\n",
       "      <th>graduated_at</th>\n",
       "    </tr>\n",
       "  </thead>\n",
       "  <tbody>\n",
       "    <tr>\n",
       "      <th>0</th>\n",
       "      <td>1</td>\n",
       "      <td>6117</td>\n",
       "      <td>NaN</td>\n",
       "      <td>NaN</td>\n",
       "    </tr>\n",
       "    <tr>\n",
       "      <th>1</th>\n",
       "      <td>2</td>\n",
       "      <td>6136</td>\n",
       "      <td>Washington University, St. Louis</td>\n",
       "      <td>1990-01-01</td>\n",
       "    </tr>\n",
       "    <tr>\n",
       "      <th>2</th>\n",
       "      <td>3</td>\n",
       "      <td>6136</td>\n",
       "      <td>Boston University</td>\n",
       "      <td>1992-01-01</td>\n",
       "    </tr>\n",
       "    <tr>\n",
       "      <th>3</th>\n",
       "      <td>4</td>\n",
       "      <td>6005</td>\n",
       "      <td>University of Greenwich</td>\n",
       "      <td>2006-01-01</td>\n",
       "    </tr>\n",
       "    <tr>\n",
       "      <th>4</th>\n",
       "      <td>5</td>\n",
       "      <td>5832</td>\n",
       "      <td>Rice University</td>\n",
       "      <td>NaN</td>\n",
       "    </tr>\n",
       "  </tbody>\n",
       "</table>\n",
       "</div>"
      ],
      "text/plain": [
       "   id  person_id                      instituition graduated_at\n",
       "0   1       6117                               NaN          NaN\n",
       "1   2       6136  Washington University, St. Louis   1990-01-01\n",
       "2   3       6136                 Boston University   1992-01-01\n",
       "3   4       6005           University of Greenwich   2006-01-01\n",
       "4   5       5832                   Rice University          NaN"
      ]
     },
     "execution_count": 9,
     "metadata": {},
     "output_type": "execute_result"
    }
   ],
   "source": [
    "education_df.head()"
   ]
  },
  {
   "cell_type": "code",
   "execution_count": 10,
   "id": "3648bc06",
   "metadata": {
    "scrolled": true
   },
   "outputs": [
    {
     "name": "stdout",
     "output_type": "stream",
     "text": [
      "<class 'pandas.core.frame.DataFrame'>\n",
      "RangeIndex: 109610 entries, 0 to 109609\n",
      "Data columns (total 4 columns):\n",
      " #   Column        Non-Null Count   Dtype \n",
      "---  ------        --------------   ----- \n",
      " 0   id            109610 non-null  int64 \n",
      " 1   person_id     109610 non-null  int64 \n",
      " 2   instituition  109555 non-null  object\n",
      " 3   graduated_at  58054 non-null   object\n",
      "dtypes: int64(2), object(2)\n",
      "memory usage: 3.3+ MB\n"
     ]
    }
   ],
   "source": [
    "education_df.info()"
   ]
  },
  {
   "cell_type": "markdown",
   "id": "ceb89c85",
   "metadata": {},
   "source": [
    "Датасет `education_df` содержит 4 столбца и 109 610 строк, в которых представлена информацию об учебных заведениях сотрудниках компаний.\n",
    "\n",
    "После первичного анализа данных можно сделать следующие выводы:\n",
    "\n",
    "- Названия столбцов **имеют корректный вид (snake case).**\n",
    "\n",
    "\n",
    "- 2 столбца датасета имеют тип int64, 2 столбеца тип object.\n",
    "\n",
    "  \n",
    "- **Пропуски содержатся:**\n",
    "  - В столбце `instituition` - MСAR (объясняются ошибкой при ручном сборе)\n",
    "  - В столбце `graduated_at` - MСAR (объясняются ошибкой при ручном сборе)\n",
    "  \n",
    "\n",
    "Судя по первому знакомству с данными, значения в столбцах соответствуют своему описанию.\n",
    "\n",
    "Отсутствие огромного количества информации в поле `instituition` и `graduated_at` говорит о том, что в дальнейшем анализе не получится использовать всю информацию для сопоставления с другими данными.\n",
    "\n",
    "Теперь познакомимся с данными датасета `degrees_df`"
   ]
  },
  {
   "cell_type": "markdown",
   "id": "dc3f84dc",
   "metadata": {},
   "source": [
    "## Знакомство с таблицей degrees (Специальности сотрудников)"
   ]
  },
  {
   "cell_type": "markdown",
   "id": "6a40b1ad",
   "metadata": {},
   "source": [
    "### Описание таблицы degrees\n",
    "\n",
    "- `id` — идентификатор записи.\n",
    "- `object_id` — идентификатор сотрудника.\n",
    "- `degree_type` — тип образования.\n",
    "- `subject` — специальность.\n",
    "\n",
    "---"
   ]
  },
  {
   "cell_type": "code",
   "execution_count": 11,
   "id": "12841f76",
   "metadata": {},
   "outputs": [
    {
     "data": {
      "text/html": [
       "<div>\n",
       "<style scoped>\n",
       "    .dataframe tbody tr th:only-of-type {\n",
       "        vertical-align: middle;\n",
       "    }\n",
       "\n",
       "    .dataframe tbody tr th {\n",
       "        vertical-align: top;\n",
       "    }\n",
       "\n",
       "    .dataframe thead th {\n",
       "        text-align: right;\n",
       "    }\n",
       "</style>\n",
       "<table border=\"1\" class=\"dataframe\">\n",
       "  <thead>\n",
       "    <tr style=\"text-align: right;\">\n",
       "      <th></th>\n",
       "      <th>id</th>\n",
       "      <th>object_id</th>\n",
       "      <th>degree_type</th>\n",
       "      <th>subject</th>\n",
       "    </tr>\n",
       "  </thead>\n",
       "  <tbody>\n",
       "    <tr>\n",
       "      <th>0</th>\n",
       "      <td>1</td>\n",
       "      <td>p:6117</td>\n",
       "      <td>MBA</td>\n",
       "      <td>NaN</td>\n",
       "    </tr>\n",
       "    <tr>\n",
       "      <th>1</th>\n",
       "      <td>2</td>\n",
       "      <td>p:6136</td>\n",
       "      <td>BA</td>\n",
       "      <td>English, French</td>\n",
       "    </tr>\n",
       "    <tr>\n",
       "      <th>2</th>\n",
       "      <td>3</td>\n",
       "      <td>p:6136</td>\n",
       "      <td>MS</td>\n",
       "      <td>Mass Communication</td>\n",
       "    </tr>\n",
       "    <tr>\n",
       "      <th>3</th>\n",
       "      <td>4</td>\n",
       "      <td>p:6005</td>\n",
       "      <td>MS</td>\n",
       "      <td>Internet Technology</td>\n",
       "    </tr>\n",
       "    <tr>\n",
       "      <th>4</th>\n",
       "      <td>5</td>\n",
       "      <td>p:5832</td>\n",
       "      <td>BCS</td>\n",
       "      <td>Computer Science, Psychology</td>\n",
       "    </tr>\n",
       "  </tbody>\n",
       "</table>\n",
       "</div>"
      ],
      "text/plain": [
       "   id object_id degree_type                       subject\n",
       "0   1    p:6117         MBA                           NaN\n",
       "1   2    p:6136          BA               English, French\n",
       "2   3    p:6136          MS            Mass Communication\n",
       "3   4    p:6005          MS           Internet Technology\n",
       "4   5    p:5832         BCS  Computer Science, Psychology"
      ]
     },
     "execution_count": 11,
     "metadata": {},
     "output_type": "execute_result"
    }
   ],
   "source": [
    "degrees_df.head()"
   ]
  },
  {
   "cell_type": "code",
   "execution_count": 12,
   "id": "f9636d37",
   "metadata": {},
   "outputs": [
    {
     "name": "stdout",
     "output_type": "stream",
     "text": [
      "<class 'pandas.core.frame.DataFrame'>\n",
      "RangeIndex: 109610 entries, 0 to 109609\n",
      "Data columns (total 4 columns):\n",
      " #   Column       Non-Null Count   Dtype \n",
      "---  ------       --------------   ----- \n",
      " 0   id           109610 non-null  int64 \n",
      " 1   object_id    109610 non-null  object\n",
      " 2   degree_type  98392 non-null   object\n",
      " 3   subject      81298 non-null   object\n",
      "dtypes: int64(1), object(3)\n",
      "memory usage: 3.3+ MB\n"
     ]
    }
   ],
   "source": [
    "degrees_df.info()"
   ]
  },
  {
   "cell_type": "markdown",
   "id": "8f7f5ed7",
   "metadata": {},
   "source": [
    "Датасет `degrees_df` содержит 4 столбца и 109 610 строк, в которых представлена информацию об специальностях сотрудников компаний.\n",
    "\n",
    "После первичного анализа данных можно сделать следующие выводы:\n",
    "\n",
    "- Названия столбцов **имеют корректный вид (snake case).**\n",
    "\n",
    "\n",
    "- 1 столбца датасета имеют тип int64, 3 столбеца тип object.\n",
    "\n",
    "  \n",
    "- **Пропуски содержатся:**\n",
    "  - В столбце `degree_type` - MСAR (объясняются ошибкой при ручном сборе)\n",
    "  - В столбце `subject` - MСAR (объясняются ошибкой при ручном сборе)\n",
    "  \n",
    "\n",
    "Судя по первому знакомству с данными, значения в столбцах соответствуют своему описанию.\n",
    "\n",
    "Отсутствие огромного количества информации в поле `degree_type` и `subject` говорит о том, что в дальнейшем анализе не получится использовать всю информацию для сопоставления с другими данными."
   ]
  },
  {
   "cell_type": "markdown",
   "id": "77f7ffaf",
   "metadata": {},
   "source": [
    "## 1.2. Первичная предобработка данных"
   ]
  },
  {
   "cell_type": "markdown",
   "id": "586a11e5",
   "metadata": {},
   "source": [
    "---\n",
    "### Таблица company_and_rounds (Раунды компаний)\n",
    "---\n",
    "### Изменяем названия столбцов и убираем лишний столбец"
   ]
  },
  {
   "cell_type": "code",
   "execution_count": 13,
   "id": "88f54479",
   "metadata": {},
   "outputs": [],
   "source": [
    "#Убираем пробелы около названий столбцов\n",
    "company_and_rounds_df.columns = company_and_rounds_df.columns.str.strip()\n",
    "\n",
    "#Меняем двойные пробелы в названиях столбцов на нижнее подчеркивание\n",
    "company_and_rounds_df.columns = company_and_rounds_df.columns.str.replace('  ','_')\n",
    "\n",
    "#Убираем лишний столбец company_id из таблицы\n",
    "company_and_rounds_df = company_and_rounds_df.drop(columns='company_id')\n",
    "\n",
    "#Привожу все столбцы к нижнему регистру\n",
    "company_and_rounds_df.columns = company_and_rounds_df.columns.str.replace('_ID','_id')"
   ]
  },
  {
   "cell_type": "markdown",
   "id": "3bb33fd8",
   "metadata": {},
   "source": [
    "### Изменяем типы столбцов с данными на datetime64"
   ]
  },
  {
   "cell_type": "code",
   "execution_count": 14,
   "id": "ad377e53",
   "metadata": {
    "scrolled": true
   },
   "outputs": [
    {
     "data": {
      "text/plain": [
       "0        2005-10-01\n",
       "1        2007-01-01\n",
       "2        2008-05-19\n",
       "3               NaT\n",
       "4               NaT\n",
       "            ...    \n",
       "217769   2011-01-31\n",
       "217770   2011-01-13\n",
       "217771   2012-05-31\n",
       "217772   2013-12-03\n",
       "217773   2013-12-04\n",
       "Name: funded_at, Length: 217774, dtype: datetime64[ns]"
      ]
     },
     "execution_count": 14,
     "metadata": {},
     "output_type": "execute_result"
    }
   ],
   "source": [
    "#Меняем столбцы с датами на тип datetime64\n",
    "company_and_rounds_df['founded_at'].astype('datetime64')\n",
    "company_and_rounds_df['closed_at'].astype('datetime64')\n",
    "company_and_rounds_df['funded_at'].astype('datetime64')"
   ]
  },
  {
   "cell_type": "markdown",
   "id": "833dac53",
   "metadata": {},
   "source": [
    "---\n",
    "### Таблица acquisition (Покупка / продажа компаний)\n",
    "---\n",
    "### Изменяем типы столбцов с данными на datetime64"
   ]
  },
  {
   "cell_type": "code",
   "execution_count": 15,
   "id": "a102b773",
   "metadata": {
    "scrolled": true
   },
   "outputs": [
    {
     "data": {
      "text/plain": [
       "0      2007-05-30\n",
       "1      2007-07-01\n",
       "2      2007-05-01\n",
       "3      2007-06-01\n",
       "4      2007-07-01\n",
       "          ...    \n",
       "9402   2013-12-11\n",
       "9403   2013-12-09\n",
       "9404   2007-07-03\n",
       "9405   2013-12-12\n",
       "9406   2013-12-12\n",
       "Name: acquired_at, Length: 9407, dtype: datetime64[ns]"
      ]
     },
     "execution_count": 15,
     "metadata": {},
     "output_type": "execute_result"
    }
   ],
   "source": [
    "#Меняем столбцы с датами на тип datetime64\n",
    "acquisition_df['acquired_at'].astype('datetime64')"
   ]
  },
  {
   "cell_type": "markdown",
   "id": "9e24c5af",
   "metadata": {},
   "source": [
    "---\n",
    "### Таблица education (Учебные заведения сотрудников)\n",
    "---\n",
    "### Изменяем типы столбцов с данными на datetime64"
   ]
  },
  {
   "cell_type": "code",
   "execution_count": 16,
   "id": "c5dbe73e",
   "metadata": {},
   "outputs": [
    {
     "data": {
      "text/plain": [
       "0               NaT\n",
       "1        1990-01-01\n",
       "2        1992-01-01\n",
       "3        2006-01-01\n",
       "4               NaT\n",
       "            ...    \n",
       "109605          NaT\n",
       "109606          NaT\n",
       "109607          NaT\n",
       "109608          NaT\n",
       "109609          NaT\n",
       "Name: graduated_at, Length: 109610, dtype: datetime64[ns]"
      ]
     },
     "execution_count": 16,
     "metadata": {},
     "output_type": "execute_result"
    }
   ],
   "source": [
    "#Меняем столбцы с датами на тип datetime64\n",
    "education_df['graduated_at'].astype('datetime64')"
   ]
  },
  {
   "cell_type": "markdown",
   "id": "9825952b",
   "metadata": {},
   "source": [
    "## 2. Предобработка данных, предварительное исследование"
   ]
  },
  {
   "cell_type": "markdown",
   "id": "8a3f5dda",
   "metadata": {},
   "source": [
    "Предобработку начнем с данных о проведения анализа инвестиционных раундов за весь период времени."
   ]
  },
  {
   "cell_type": "markdown",
   "id": "6ac61441",
   "metadata": {},
   "source": [
    "## 2.1. Раунды финансирования по годам\n",
    "\n",
    "Подготовим сводную таблицу в разбивке по годам с отображением средней суммы за один инвестиционный раунд и количество раундов за указанный год (при этом оставим года, где было более 50 инвестиционных раундов)"
   ]
  },
  {
   "cell_type": "code",
   "execution_count": 17,
   "id": "24fe59ba",
   "metadata": {
    "scrolled": true
   },
   "outputs": [
    {
     "name": "stdout",
     "output_type": "stream",
     "text": [
      "                 median         count\n",
      "          raised_amount raised_amount\n",
      "funded_at                            \n",
      "1999.0        2000000.0            76\n",
      "2000.0        4200000.0           125\n",
      "2001.0        3000000.0            96\n",
      "2002.0        4200000.0           116\n",
      "2003.0        3000000.0           159\n",
      "2004.0        5000000.0           291\n",
      "2005.0        5500000.0          1633\n",
      "2006.0        5000000.0          2436\n",
      "2007.0        3973320.0          3279\n",
      "2008.0        3110000.0          3774\n",
      "2009.0        2000000.0          4151\n",
      "2010.0        1602500.0          6221\n",
      "2011.0        1200000.0          9204\n",
      "2012.0        1000000.0          9970\n",
      "2013.0        1200000.0         11072\n"
     ]
    }
   ],
   "source": [
    "#Конвертируем в datetime столбец funded_at\n",
    "company_and_rounds_df['funded_at'] = pd.to_datetime(company_and_rounds_df['funded_at'])\n",
    "#Достаем год из даты\n",
    "company_and_rounds_df['funded_at'] = company_and_rounds_df['funded_at'].dt.year \n",
    "\n",
    "#Строим сводную\n",
    "pivot_round = company_and_rounds_df.pivot_table(\n",
    "    index='funded_at',\n",
    "    values='raised_amount',\n",
    "    aggfunc=['median','count']\n",
    ")\n",
    "\n",
    "filtered_pivot_round = pivot_round[pivot_round[('count', 'raised_amount')] > 50]\n",
    "\n",
    "print(filtered_pivot_round)"
   ]
  },
  {
   "cell_type": "markdown",
   "id": "e9a68bfb",
   "metadata": {},
   "source": [
    "Далее выводим линейную диаграмму, для отслеживания динамики результатов."
   ]
  },
  {
   "cell_type": "code",
   "execution_count": 18,
   "id": "f6b41f75",
   "metadata": {},
   "outputs": [
    {
     "data": {
      "image/png": "[encoded data removed]",
      "text/plain": [
       "<Figure size 864x432 with 1 Axes>"
      ]
     },
     "metadata": {
      "needs_background": "light"
     },
     "output_type": "display_data"
    }
   ],
   "source": [
    "# Сбрасываем индекс\n",
    "filtered_pivot_round = filtered_pivot_round.reset_index()\n",
    "\n",
    "# Создаём контейнер графика\n",
    "plt.figure(figsize=(12, 6))\n",
    "\n",
    "# Строим линейный график динамики\n",
    "plt.plot(\n",
    "    filtered_pivot_round['funded_at'],\n",
    "    filtered_pivot_round[('median', 'raised_amount')],\n",
    "    marker='o',\n",
    "    linestyle='-',\n",
    "    linewidth=2,\n",
    "    markersize=8\n",
    ")\n",
    "\n",
    "# Настраиваем оформление\n",
    "plt.title('Динамика среднего размера инвестиций по годам', fontsize=14)\n",
    "plt.xlabel('Год', fontsize=12)\n",
    "plt.ylabel('Средний размер инвестиций', fontsize=12)\n",
    "plt.grid(True, linestyle='--', alpha=0.7)\n",
    "\n",
    "plt.tight_layout()\n",
    "plt.show()"
   ]
  },
  {
   "cell_type": "markdown",
   "id": "6fe0de8b",
   "metadata": {},
   "source": [
    "### На основании полученных данных, можно сделать следующие выводы:\n",
    "\n",
    "1. В 2005 году типичный размер собранных в рамках одного раунда средств был максимален\n",
    "2. В диапазоне 2006 по 2012 год наблюдается отрицательная тенденция по количеству раундов и выделяемых в рамках каждого раунда средств. В 2013 году снова начался небольшой подъем."
   ]
  },
  {
   "cell_type": "markdown",
   "id": "3cc735d6",
   "metadata": {},
   "source": [
    "## 2.2. Люди и их образование\n",
    "\n",
    "Далее будем определять зависит ли полнота сведений о сотрудниках (например, об их образовании) от размера компаний.\n",
    "\n",
    "Объединим информацию о людях и их образовании в одну таблицу, для оценки полноты информации.\n",
    "\n",
    "### Объединям таблицы people и education"
   ]
  },
  {
   "cell_type": "code",
   "execution_count": 19,
   "id": "7d4eee8c",
   "metadata": {},
   "outputs": [],
   "source": [
    "#Объединяем таблицы people и education\n",
    "people_education_df = pd.merge(\n",
    "    left=people_df,\n",
    "    right=education_df,\n",
    "    left_on='id',\n",
    "    right_on='person_id',\n",
    "    how='left'\n",
    ")"
   ]
  },
  {
   "cell_type": "markdown",
   "id": "1db733e6",
   "metadata": {},
   "source": [
    "### Предобработка degrees для присоединения и расширения данных\n",
    "\n",
    "Попытаемся расширить данные по образованию с помощью таблицы `degrees_df`\n",
    "\n",
    "Для присоединения таблицы `degrees_df` необходимо из поля `object_id` убрать значение `p:` и поменять тип данных на `int64`. Иначе сопоставить таблицы не получится."
   ]
  },
  {
   "cell_type": "code",
   "execution_count": 20,
   "id": "9d033a11",
   "metadata": {},
   "outputs": [
    {
     "name": "stdout",
     "output_type": "stream",
     "text": [
      "   id  object_id degree_type                       subject\n",
      "0   1       6117         MBA                           NaN\n",
      "1   2       6136          BA               English, French\n",
      "2   3       6136          MS            Mass Communication\n",
      "3   4       6005          MS           Internet Technology\n",
      "4   5       5832         BCS  Computer Science, Psychology\n"
     ]
    }
   ],
   "source": [
    "#Убираем лишние символы из object_id\n",
    "degrees_df['object_id']=degrees_df['object_id'].str.slice(2)\n",
    "\n",
    "#Меняем тип данных на int64\n",
    "degrees_df['object_id']=pd.to_numeric(degrees_df['object_id'])\n",
    "\n",
    "print(degrees_df.head())"
   ]
  },
  {
   "cell_type": "markdown",
   "id": "c82e0446",
   "metadata": {},
   "source": [
    "### Делаем финальную таблицу для анализа образования"
   ]
  },
  {
   "cell_type": "code",
   "execution_count": 21,
   "id": "029c605b",
   "metadata": {
    "scrolled": false
   },
   "outputs": [
    {
     "data": {
      "text/plain": [
       "id_x                0.000000\n",
       "first_name          0.000013\n",
       "last_name           0.000003\n",
       "company_id          0.808894\n",
       "network_username    0.780148\n",
       "id_y                0.427785\n",
       "person_id           0.427785\n",
       "instituition        0.428025\n",
       "graduated_at        0.692611\n",
       "id                  0.427785\n",
       "object_id           0.427785\n",
       "degree_type         0.485697\n",
       "subject             0.578043\n",
       "dtype: float64"
      ]
     },
     "execution_count": 21,
     "metadata": {},
     "output_type": "execute_result"
    }
   ],
   "source": [
    "#Объединяем таблицы people и education\n",
    "people_education_df = pd.merge(\n",
    "    left=people_education_df,\n",
    "    right=degrees_df,\n",
    "    left_on='id_x',\n",
    "    right_on='object_id',\n",
    "    how='left'\n",
    ")\n",
    "\n",
    "\n",
    "# Подсчитываем долю строк с пропусками\n",
    "people_education_df.isna().sum() / people_education_df.shape[0]"
   ]
  },
  {
   "cell_type": "markdown",
   "id": "3ab41e26",
   "metadata": {},
   "source": [
    "Данные удалось максимально расширить.\n",
    "\n",
    "`instituition (название учебного заведения)` - пропусков **42%**.\n",
    "\n",
    "`degree_type (тип образования)` - пропусков **48%**.\n",
    "\n",
    "`subject (специальность).` - пропусков **42%**.\n",
    "\n",
    "По итогу предподготовки, достоточно выбрать один столбец `instituition` для анализа долей по категориям."
   ]
  },
  {
   "cell_type": "markdown",
   "id": "75d07151",
   "metadata": {},
   "source": [
    "### Определяем критерии для будущих категорий компаний (по количеству сотрудников)"
   ]
  },
  {
   "cell_type": "code",
   "execution_count": 22,
   "id": "b8b4d58c",
   "metadata": {
    "scrolled": true
   },
   "outputs": [
    {
     "data": {
      "text/plain": [
       "count    22922.000000\n",
       "mean         3.091746\n",
       "std          7.948286\n",
       "min          1.000000\n",
       "25%          1.000000\n",
       "50%          1.000000\n",
       "75%          4.000000\n",
       "max        722.000000\n",
       "Name: id_x, dtype: float64"
      ]
     },
     "execution_count": 22,
     "metadata": {},
     "output_type": "execute_result"
    }
   ],
   "source": [
    "#Создаем таблицу с количеством сотрудников по компаниям\n",
    "count_people_in_company = people_education_df.groupby('company_id')['id_x'].count().sort_values(ascending=False)\n",
    "\n",
    "#Считаем меры центральной тенденции\n",
    "count_people_in_company.describe()"
   ]
  },
  {
   "cell_type": "markdown",
   "id": "81f636d1",
   "metadata": {},
   "source": [
    "Из данных виден очень сильный разброс значений `min` и `max`, который характерен при сильных выбросах.\n",
    "\n",
    "Также значения 25,50,75 процентиля, говорят о том, что в выборке стартапы с 1 или 2 сотрудниками."
   ]
  },
  {
   "cell_type": "code",
   "execution_count": 23,
   "id": "17fa4fcc",
   "metadata": {},
   "outputs": [
    {
     "data": {
      "image/png": "[encoded data removed]",
      "text/plain": [
       "<Figure size 720x432 with 1 Axes>"
      ]
     },
     "metadata": {
      "needs_background": "light"
     },
     "output_type": "display_data"
    }
   ],
   "source": [
    "#Строим диаграмму размаха\n",
    "plt.figure(figsize=(10, 6))\n",
    "count_people_in_company.plot(kind='box', vert=False)\n",
    "plt.title('Распределение количества сотрудников по компаниям')\n",
    "plt.xlabel('Количество сотрудников')\n",
    "plt.show()"
   ]
  },
  {
   "cell_type": "markdown",
   "id": "3749b6bb",
   "metadata": {},
   "source": [
    "По диаграмме видно, что значения больше 50 сотрудников, можно отнести к выбросам данных.\n",
    "\n",
    "Но если оценивать инвестиционный рынок, это просто компании, которые будут находиться на более продвинутом этапе инвестирования.\n",
    "\n",
    "Это нужно оценивать при категоризации компаний:\n",
    "\n",
    "1. Компании от 1 до 4 человек, можно отнести к стартапам на ранних стадиях, которые пользуются помощью \"ангелов\" во время роста - для них определяем категорию `small`\n",
    "2. Компании от 4 до 50 человек, можно отнести к стартапам чуть более зрелых, которые чаще всего пользутся помощью краудфандинговых инвестиций (много компаний по немного, без распределения долей) - для них определяем категорию `medium`\n",
    "3. Компании от 50 до 100 человек, можно отнести стартапам достаточно зрелым для венчерного инвестирования - для них определяем категорию `large`\n",
    "4. Компании от 100 и более, можно отнести стартапам для инвестирования в сериях. - для них определяем категорию `top`"
   ]
  },
  {
   "cell_type": "markdown",
   "id": "fd01f316",
   "metadata": {},
   "source": [
    "### Анализ пропусков данных образования в зависимости от категории"
   ]
  },
  {
   "cell_type": "code",
   "execution_count": 24,
   "id": "192b38db",
   "metadata": {},
   "outputs": [
    {
     "name": "stdout",
     "output_type": "stream",
     "text": [
      "   company_id  id_x  instituition\n",
      "0         1.0     5             4\n",
      "1         2.0     1             1\n",
      "2         3.0     9             8\n",
      "3         4.0    28            27\n",
      "4         5.0   138           122\n"
     ]
    }
   ],
   "source": [
    "#Создаем отдельный датафрейм для подсчета категорий и пропусков в них\n",
    "company_category_df=people_education_df.groupby('company_id').agg({\n",
    "    'id_x':'count',\n",
    "    'instituition':'count'                                                          \n",
    "})\n",
    "\n",
    "#Убираем индексы\n",
    "company_category_df = company_category_df.reset_index()\n",
    "\n",
    "print(company_category_df.head())"
   ]
  },
  {
   "cell_type": "code",
   "execution_count": 25,
   "id": "0636bfd2",
   "metadata": {},
   "outputs": [
    {
     "name": "stdout",
     "output_type": "stream",
     "text": [
      "   company_id  id_x  instituition people_group\n",
      "0         1.0     5             4       medium\n",
      "1         2.0     1             1        small\n",
      "2         3.0     9             8       medium\n",
      "3         4.0    28            27       medium\n",
      "4         5.0   138           122          top\n"
     ]
    }
   ],
   "source": [
    "#Добавляем категории\n",
    "company_category_df['people_group'] = pd.cut(\n",
    "    company_category_df['id_x'],\n",
    "    bins=[0, 4, 50, 100, 376],\n",
    "    labels=[\"small\", \"medium\", \"large\", \"top\"],\n",
    "    right=True,\n",
    "    include_lowest=True\n",
    ")\n",
    "\n",
    "print(company_category_df.head())"
   ]
  },
  {
   "cell_type": "code",
   "execution_count": 26,
   "id": "40a6d7dd",
   "metadata": {},
   "outputs": [
    {
     "name": "stdout",
     "output_type": "stream",
     "text": [
      "  people_group   id_x  instituition  share\n",
      "0        small  31825         19737   0.62\n",
      "1       medium  34441         30727   0.89\n",
      "2        large   1821          1689   0.93\n",
      "3          top   1667          1518   0.91\n"
     ]
    }
   ],
   "source": [
    "#Считаем долю пропусков образования по категориям\n",
    "share_nan_people_group=company_category_df.groupby('people_group').agg({\n",
    "    'id_x':'sum',\n",
    "    'instituition':'sum'\n",
    "})\n",
    "\n",
    "share_nan_people_group=share_nan_people_group.reset_index()\n",
    "\n",
    "share_nan_people_group['share']=round((share_nan_people_group['instituition']/share_nan_people_group['id_x']),2)\n",
    "\n",
    "print(share_nan_people_group)"
   ]
  },
  {
   "cell_type": "code",
   "execution_count": 27,
   "id": "48a3950a",
   "metadata": {},
   "outputs": [
    {
     "data": {
      "text/plain": [
       "<Figure size 504x216 with 0 Axes>"
      ]
     },
     "metadata": {},
     "output_type": "display_data"
    },
    {
     "data": {
      "image/png": "[encoded data removed]",
      "text/plain": [
       "<Figure size 432x288 with 1 Axes>"
      ]
     },
     "metadata": {
      "needs_background": "light"
     },
     "output_type": "display_data"
    }
   ],
   "source": [
    "# Создаём контейнер графика matplotlib и задаём его размер\n",
    "plt.figure(figsize=(7, 3))\n",
    "\n",
    "# Строим диаграмму\n",
    "share_nan_people_group.plot(\n",
    "    kind='bar',\n",
    "    x='people_group',\n",
    "    y='share',\n",
    "    rot=0,\n",
    "    legend=False,\n",
    "    title=f'Распределение пропусков образования по категориям компаний'\n",
    ")\n",
    "\n",
    "# Настраиваем оформление графика\n",
    "plt.xlabel('Категории компаний')\n",
    "plt.ylabel('Процент пропусков в образовании')\n",
    "plt.grid()\n",
    "\n",
    "plt.tight_layout()\n",
    "plt.show()"
   ]
  },
  {
   "cell_type": "markdown",
   "id": "6903236a",
   "metadata": {},
   "source": [
    "По итогу исследования:\n",
    "\n",
    "- 62% пропусков в графе образования имеют компаний `small`, которые относятся к стартапам на ранних стадиях\n",
    "\n",
    "- 89% пропусков в графе образования имеют компаний `medium`, которые относятся к стартапам на более зрелых стадиях\n",
    "\n",
    "- 93% пропусков в графе образования имеют компаний `large`, которые относятся к стартапам на этапах потенциального венчура\n",
    "\n",
    "- 91% пропусков в графе образования имеют компаний `top`, которые относятся к крупным стартапам\n",
    "\n",
    "Другими словами, с увеличением размера компании, пропусков становится больше."
   ]
  },
  {
   "cell_type": "markdown",
   "id": "06c3986a",
   "metadata": {},
   "source": [
    "## 2.3. Определяем принципы объединения таблиц"
   ]
  },
  {
   "cell_type": "markdown",
   "id": "920f6f90",
   "metadata": {},
   "source": [
    "Некоторые названия столбцов встречаются в датасетах чаще других. \n",
    "\n",
    "В результате предварительной проверки датасетов было выяснено, что:\n",
    "- `столбец company_id` присутствует в 2-х датасетах (`people_df`,`company_and_rounds_df`) и подходит для объединения данных.\n",
    "\n",
    "### Проверка столбца network_username\n",
    "\n",
    "Проверим `столбец network_username`, который присутствует в 2-х датасетах (`company_and_rounds_df`,`people_df`)"
   ]
  },
  {
   "cell_type": "markdown",
   "id": "a0899d5c",
   "metadata": {},
   "source": [
    "<div class=\"alert alert-info\"> \n",
    "\n",
    " <b>Комментарии студента:</b>     \n",
    "\n",
    "__Меня очень смущало, что при попытки сопоставить таблицы по network_username ядро умерало__\n",
    "\n",
    "- Посчитал уникальные значения в столбцах датафреймов и пересек на диаграмме Венна ниже.\n",
    "- Переписал все выводы.\n"
   ]
  },
  {
   "cell_type": "code",
   "execution_count": 28,
   "id": "991e9c5d",
   "metadata": {
    "scrolled": true
   },
   "outputs": [
    {
     "data": {
      "image/png": "[encoded data removed]",
      "text/plain": [
       "<Figure size 432x288 with 1 Axes>"
      ]
     },
     "metadata": {},
     "output_type": "display_data"
    },
    {
     "name": "stdout",
     "output_type": "stream",
     "text": [
      "Общие пользователи: 2199\n",
      "Только в people_df: 36222\n",
      "Только в company_and_rounds_df: 77372\n",
      "Записей в people_df: 226709\n",
      "Записей в company_and_rounds_df: 217774\n",
      "Пересечение в people_df: 5.72%\n",
      "Пересечение в company_and_rounds_df: 2.76%\n"
     ]
    }
   ],
   "source": [
    "# Уникальные значения network_username из обоих датасетов\n",
    "people_users = set(people_df['network_username'].dropna().unique())\n",
    "company_users = set(company_and_rounds_df['network_username'].dropna().unique())\n",
    "\n",
    "# Диаграмма Венна\n",
    "venn2(\n",
    "    [people_users, company_users],\n",
    "    set_labels=('Люди (people_df)', 'Раунды (company_and_rounds_df)')\n",
    ")\n",
    "plt.title(\"Пересечение датафреймов по полю network_username\")\n",
    "plt.show()\n",
    "\n",
    "# Расчёт статистики\n",
    "intersection = people_users & company_users  # Общие пользователи\n",
    "only_people = len(people_users) - len(intersection)  # Только в people_df\n",
    "only_company = len(company_users) - len(intersection)  # Только в company_and_rounds_df\n",
    "share_intersection_people = round(len(intersection) / len(people_users)*100,2)\n",
    "share_intersection_company = round(len(intersection) / len(company_users)*100,2)\n",
    "\n",
    "print(f\"Общие пользователи: {len(intersection)}\")\n",
    "print(f\"Только в people_df: {only_people}\")\n",
    "print(f\"Только в company_and_rounds_df: {only_company}\")\n",
    "print(f\"Записей в people_df: {len(people_df)}\")\n",
    "print(f\"Записей в company_and_rounds_df: {len(company_and_rounds_df)}\")\n",
    "print(f\"Пересечение в people_df: {share_intersection_people}%\")\n",
    "print(f\"Пересечение в company_and_rounds_df: {share_intersection_company}%\")"
   ]
  },
  {
   "cell_type": "markdown",
   "id": "0d80ffa4",
   "metadata": {},
   "source": [
    "### В рамках диаграммы Венна видно, что перечения есть только:\n",
    "- в 5.72% данных в датафрейме people_df.\n",
    "- в 2.76% данных в датафрейме company_and_rounds_df.\n",
    "\n",
    "### Объединять таблицы people_df и company_and_rounds_df по полю network_username нет смысла.\n",
    "\n",
    "При соединении таблиц методом inner по полю network_username:\n",
    "\n",
    "- потеряется 95% данных из датафрейма people_df**\n",
    "- потеряется 97% данных из датафрейма company_and_rounds_df**"
   ]
  },
  {
   "cell_type": "code",
   "execution_count": 29,
   "id": "1625157f",
   "metadata": {
    "scrolled": true
   },
   "outputs": [
    {
     "data": {
      "image/png": "[encoded data removed]",
      "text/plain": [
       "<Figure size 432x288 with 1 Axes>"
      ]
     },
     "metadata": {},
     "output_type": "display_data"
    },
    {
     "name": "stdout",
     "output_type": "stream",
     "text": [
      "Общие пользователи: 22922\n",
      "Только в people_df: 0\n",
      "Только в company_and_rounds_df: 173631\n",
      "Записей в people_df: 226709\n",
      "Записей в company_and_rounds_df: 217774\n",
      "Пересечение в people_df: 100.0%\n",
      "Пересечение в company_and_rounds_df: 11.66%\n"
     ]
    }
   ],
   "source": [
    "# Уникальные значения network_username из обоих датасетов\n",
    "people_id = set(people_df['company_id'].dropna().unique())\n",
    "company_id = set(company_and_rounds_df['company_id'].dropna().unique())\n",
    "\n",
    "# Диаграмма Венна\n",
    "venn2(\n",
    "    [people_id, company_id],\n",
    "    set_labels=('Люди (people_df)', 'Раунды (company_and_rounds_df)')\n",
    ")\n",
    "plt.title(\"Пересечение датафреймов по полю company_id\")\n",
    "plt.show()\n",
    "\n",
    "# Расчёт статистики\n",
    "intersection_2 = people_id & company_id  # Общие пользователи\n",
    "only_people_2 = len(people_id) - len(intersection_2)  # Только в people_df\n",
    "only_company_2 = len(company_id) - len(intersection_2)  # Только в company_and_rounds_df\n",
    "share_intersection_people_2 = round(len(intersection_2) / len(people_id)*100,2)\n",
    "share_intersection_company_2 = round(len(intersection_2) / len(company_id)*100,2)\n",
    "\n",
    "print(f\"Общие пользователи: {len(intersection_2)}\")\n",
    "print(f\"Только в people_df: {only_people_2}\")\n",
    "print(f\"Только в company_and_rounds_df: {only_company_2}\")\n",
    "print(f\"Записей в people_df: {len(people_df)}\")\n",
    "print(f\"Записей в company_and_rounds_df: {len(company_and_rounds_df)}\")\n",
    "print(f\"Пересечение в people_df: {share_intersection_people_2}%\")\n",
    "print(f\"Пересечение в company_and_rounds_df: {share_intersection_company_2}%\")"
   ]
  },
  {
   "cell_type": "markdown",
   "id": "6d30bbb0",
   "metadata": {},
   "source": [
    "#### В случае с полем `company_id` диаграмма Венна показывает:\n",
    "- в 100% данных в датафрейме people_df.\n",
    "\n",
    "### Вывод по принципу объединения таблиц:\n",
    "\n",
    "При соединении таблиц лучше пользоваться полем `company_id`\n",
    "\n",
    "Так как в случае inner соединениия таблиц у нас остается 20 976 строк данных (по сравнению с 2007 строкамми данных в случае поля `network_username`)"
   ]
  },
  {
   "cell_type": "markdown",
   "id": "c3f66e64",
   "metadata": {},
   "source": [
    "### 2.4. Проверка проблемного датасета company_and_rounds_df и причина возникновения пропусков\n",
    "\n",
    "Во время собственного анализа данных у заказчика больше всего вопросов возникло к датасету company_and_rounds.csv.\n",
    "\n",
    "В нём много пропусков как раз в информации о раундах, которая заказчику важна."
   ]
  },
  {
   "cell_type": "markdown",
   "id": "1e40235f",
   "metadata": {},
   "source": [
    "### Обновленная таблица company_and_rounds\n",
    "\n",
    "- `company_id` — идентификатор компании.\n",
    "- `name` — название компании.\n",
    "- `category_code` — категория области деятельности компании.\n",
    "- `status` — статус компании.\n",
    "- `founded_at` — дата инвестирования.\n",
    "- `closed_at` — дата закрытия компании.\n",
    "- `domain` — официальный сайт компании.\n",
    "- `network_username` — ник компании в сети.\n",
    "- `country_code` — код страны компании.\n",
    "- `investment_rounds` — число инвестиционных раундов.\n",
    "- `funding_rounds` — число раундов финансирования.\n",
    "- `funding_total` — сумма финансирования.\n",
    "- `milestones` — вехи финансирования.\n",
    "- `funding_round_id` — идентификатор этапа финансирования.\n",
    "- `funded_at` — дата финансирования.\n",
    "- `funding_round_type` — тип финансирования.\n",
    "- `raised_amount` — сумма финансирования.\n",
    "- `pre_money_valuation` — предварительная денежная оценка.\n",
    "- `participants` — число участников.\n",
    "- `is_first_round` — является ли раунд первым.\n",
    "- `is_last_round` — является раунд последним.\n",
    "\n",
    "---\n",
    "<div class=\"alert alert-info\"> \n",
    "\n",
    " <b>Комментарии студента:</b>     \n",
    "\n",
    "__Убрал выводы__\n",
    "\n",
    "\n",
    "<div class=\"alert alert-info\"> \n",
    "    \n",
    "###Проведем анализ первых 100 уникальных значений по каждому столбцу, для выявления аномалий."
   ]
  },
  {
   "cell_type": "markdown",
   "id": "a74baa86",
   "metadata": {},
   "source": [
    "### Обновленная таблица company_and_rounds\n",
    "\n",
    "- `company_id` — идентификатор компании.\n",
    "- `name` — название компании.\n",
    "- `category_code` — категория области деятельности компании.\n",
    "- `status` — статус компании.\n",
    "- `founded_at` — дата инвестирования.\n",
    "- `closed_at` — дата закрытия компании.\n",
    "- `domain` — официальный сайт компании.\n",
    "- `network_username` — ник компании в сети.\n",
    "- `country_code` — код страны компании.\n",
    "- `investment_rounds` — число инвестиционных раундов.\n",
    "- `funding_rounds` — число раундов финансирования.\n",
    "- `funding_total` — сумма финансирования.\n",
    "- `milestones` — вехи финансирования.\n",
    "- `funding_round_id` — идентификатор этапа финансирования.\n",
    "- `funded_at` — дата финансирования.\n",
    "- `funding_round_type` — тип финансирования.\n",
    "- `raised_amount` — сумма финансирования.\n",
    "- `pre_money_valuation` — предварительная денежная оценка.\n",
    "- `participants` — число участников.\n",
    "- `is_first_round` — является ли раунд первым.\n",
    "- `is_last_round` — является раунд последним."
   ]
  },
  {
   "cell_type": "markdown",
   "id": "1915780b",
   "metadata": {},
   "source": [
    "### 2.4.1. Разделяем датафрейм на 2 части\n",
    "\n",
    "#### Делаем отдельную таблицу с данными о компаниях \n",
    "\n",
    "Важно:\n",
    "\n",
    "1. Выделить в датасет нужные столбцы\n",
    "2. Убрать дубликаты\n",
    "3. Убрать пропуски в первичных ключах таблицы (company_id)"
   ]
  },
  {
   "cell_type": "code",
   "execution_count": 30,
   "id": "e91fb880",
   "metadata": {
    "scrolled": false
   },
   "outputs": [],
   "source": [
    "#Делаем отдельную таблицу по компаниям\n",
    "df_company = company_and_rounds_df[['company_id', 'name', 'category_code', 'status', \n",
    "                             'founded_at', 'closed_at', 'domain', \n",
    "                             'network_username', 'country_code', \n",
    "                             'investment_rounds', 'funding_rounds', \n",
    "                            'funding_total', 'milestones']]\n",
    "#Убираем дубли записей\n",
    "df_company=df_company.drop_duplicates(subset=['company_id', 'name', 'category_code', 'status', \n",
    "                             'founded_at', 'closed_at', 'domain', \n",
    "                             'network_username', 'country_code', 'investment_rounds', 'funding_rounds', \n",
    "                            'funding_total', 'milestones'], keep='first')"
   ]
  },
  {
   "cell_type": "code",
   "execution_count": 31,
   "id": "9d308df1",
   "metadata": {
    "scrolled": false
   },
   "outputs": [
    {
     "data": {
      "text/plain": [
       "company_id           0.000005\n",
       "name                 0.000005\n",
       "category_code        0.373271\n",
       "status               0.000005\n",
       "founded_at           0.535868\n",
       "closed_at            0.986670\n",
       "domain               0.356182\n",
       "network_username     0.589980\n",
       "country_code         0.552337\n",
       "investment_rounds    0.000005\n",
       "funding_rounds       0.000005\n",
       "funding_total        0.000005\n",
       "milestones           0.000005\n",
       "dtype: float64"
      ]
     },
     "execution_count": 31,
     "metadata": {},
     "output_type": "execute_result"
    }
   ],
   "source": [
    "# Подсчитываем долю строк с пропусками\n",
    "df_company.isna().sum() / df_company.shape[0]"
   ]
  },
  {
   "cell_type": "code",
   "execution_count": 32,
   "id": "9a9be117",
   "metadata": {},
   "outputs": [
    {
     "name": "stdout",
     "output_type": "stream",
     "text": [
      "<class 'pandas.core.frame.DataFrame'>\n",
      "Int64Index: 196553 entries, 0 to 217469\n",
      "Data columns (total 13 columns):\n",
      " #   Column             Non-Null Count   Dtype  \n",
      "---  ------             --------------   -----  \n",
      " 0   company_id         196553 non-null  float64\n",
      " 1   name               196553 non-null  object \n",
      " 2   category_code      123186 non-null  object \n",
      " 3   status             196553 non-null  object \n",
      " 4   founded_at         91227 non-null   object \n",
      " 5   closed_at          2620 non-null    object \n",
      " 6   domain             126545 non-null  object \n",
      " 7   network_username   80591 non-null   object \n",
      " 8   country_code       87990 non-null   object \n",
      " 9   investment_rounds  196553 non-null  float64\n",
      " 10  funding_rounds     196553 non-null  float64\n",
      " 11  funding_total      196553 non-null  float64\n",
      " 12  milestones         196553 non-null  float64\n",
      "dtypes: float64(5), object(8)\n",
      "memory usage: 21.0+ MB\n"
     ]
    }
   ],
   "source": [
    "#Убираем пропуски по колонке company_id\n",
    "df_company=df_company.dropna(subset=['company_id'])\n",
    "\n",
    "# Выводим информацию о датасете\n",
    "df_company.info()"
   ]
  },
  {
   "cell_type": "markdown",
   "id": "8cb06d76",
   "metadata": {},
   "source": [
    "#### Делаем отдельную таблицу с данными по раундам инвестирования\n",
    "\n",
    "\n",
    "Важно:\n",
    "\n",
    "1. Выделить в датасет нужные столбцы\n",
    "2. Убрать дубликаты\n",
    "3. Убрать пропуски в первичных ключах таблицы (company_id)\n",
    "4. Убрать пропуски в типе раундов (funding_round_type)"
   ]
  },
  {
   "cell_type": "code",
   "execution_count": 33,
   "id": "aac2ba23",
   "metadata": {},
   "outputs": [],
   "source": [
    "#Делаем отдельную таблицу по раундам инвестирования\n",
    "df_rounds = company_and_rounds_df[['company_id', 'raised_amount', 'funding_round_id', \n",
    "                            'funded_at', 'funding_round_type', 'pre_money_valuation', \n",
    "                            'participants', 'is_first_round', \n",
    "                            'is_last_round']]\n",
    "\n",
    "#Убираем дубли записей\n",
    "df_rounds = df_rounds.drop_duplicates(subset=['company_id', 'raised_amount', 'funding_round_id', \n",
    "                            'funded_at', 'funding_round_type', 'pre_money_valuation', \n",
    "                            'participants', 'is_first_round', \n",
    "                            'is_last_round'], keep='first')"
   ]
  },
  {
   "cell_type": "code",
   "execution_count": 34,
   "id": "5523feb8",
   "metadata": {},
   "outputs": [
    {
     "data": {
      "text/plain": [
       "company_id             0.001387\n",
       "raised_amount          0.756959\n",
       "funding_round_id       0.756959\n",
       "funded_at              0.758098\n",
       "funding_round_type     0.756959\n",
       "pre_money_valuation    0.756959\n",
       "participants           0.756959\n",
       "is_first_round         0.756959\n",
       "is_last_round          0.756959\n",
       "dtype: float64"
      ]
     },
     "execution_count": 34,
     "metadata": {},
     "output_type": "execute_result"
    }
   ],
   "source": [
    "# Подсчитываем долю строк с пропусками\n",
    "df_rounds.isna().sum() / df_rounds.shape[0]"
   ]
  },
  {
   "cell_type": "code",
   "execution_count": 35,
   "id": "31c9a6e1",
   "metadata": {},
   "outputs": [
    {
     "name": "stdout",
     "output_type": "stream",
     "text": [
      "<class 'pandas.core.frame.DataFrame'>\n",
      "Int64Index: 52626 entries, 0 to 217471\n",
      "Data columns (total 9 columns):\n",
      " #   Column               Non-Null Count  Dtype  \n",
      "---  ------               --------------  -----  \n",
      " 0   company_id           52626 non-null  float64\n",
      " 1   raised_amount        52626 non-null  float64\n",
      " 2   funding_round_id     52626 non-null  float64\n",
      " 3   funded_at            52382 non-null  float64\n",
      " 4   funding_round_type   52626 non-null  object \n",
      " 5   pre_money_valuation  52626 non-null  float64\n",
      " 6   participants         52626 non-null  float64\n",
      " 7   is_first_round       52626 non-null  float64\n",
      " 8   is_last_round        52626 non-null  float64\n",
      "dtypes: float64(8), object(1)\n",
      "memory usage: 4.0+ MB\n"
     ]
    }
   ],
   "source": [
    "#Убираем пропуски по колонке funding_round_type\n",
    "df_rounds=df_rounds.dropna(subset=['funding_round_type'])\n",
    "\n",
    "#Убираем пропуски по колонке company_id\n",
    "df_rounds=df_rounds.dropna(subset=['company_id'])\n",
    "\n",
    "#Выводим информацию о датасете\n",
    "df_rounds.info()"
   ]
  },
  {
   "cell_type": "markdown",
   "id": "64d1fc85",
   "metadata": {},
   "source": [
    "---\n",
    "\n",
    "## Выводы после предобработки\n",
    "\n",
    "1) Датасет `company_and_rounds_df` был разделен на:\n",
    "   - df_company\n",
    "   - df_rounds\n",
    "\n",
    "2) Из датасетов были убраны дубликаты и пропуски в ключевых колонках (`company_id` и `funding_round_type`)\n",
    "   \n",
    "3) Проанализировали способы соединения таблиц\n",
    "   - **Для сопоставления будем использовать столбцы:**\n",
    "   \n",
    "   `company_id` - id компании\n",
    "   \n",
    "   `object_id`/`person_id` - id сотрудника\n",
    "   \n",
    "   \n",
    "   - Столбец `network_username` не подходит, т.к. обогащения данных будет минимальное.\n",
    "   \n",
    "---\n",
    "\n",
    "## Выводы после первичного исследования данных\n",
    "   \n",
    "1) По итогу исследования пропусков относительно категорий компании выснили:\n",
    "\n",
    "   - 62% пропусков в графе образования имеют компаний `small`, которые относятся к стартапам на ранних стадиях\n",
    "\n",
    "   - 89% пропусков в графе образования имеют компаний `medium`, которые относятся к стартапам на более зрелых стадиях\n",
    "\n",
    "   - 93% пропусков в графе образования имеют компаний `large`, которые относятся к стартапам на этапах потенциального венчура\n",
    "\n",
    "   - 91% пропусков в графе образования имеют компаний `top`, которые относятся к крупным стартапам\n",
    "\n",
    "   Другими словами, с увеличением размера компании, пропусков становится больше.\n",
    "   \n",
    "2) По итогу исследования таблицы с инвестиционными раундамы\n",
    "\n",
    "   - В 2005 году типичный размер собранных в рамках одного раунда средств был максимален\n",
    "   - В диапазоне 2006 по 2012 год наблюдается отрицательная тенденция по количеству раундов и выделяемых в рамках каждого раунда средств. В 2013 году снова начался небольшой подъем.\n",
    "   \n",
    "\n"
   ]
  },
  {
   "cell_type": "markdown",
   "id": "0b364d2c",
   "metadata": {},
   "source": [
    "## 3. Исследовательский анализ объединённых таблиц\n",
    "\n",
    "План исследовательского анализа:\n",
    "\n",
    "1. Объединение данных\n",
    "2. Анализ выбросов\n",
    "3. Анализ \"бесплатных\" покупок\n",
    "4. Анализ цен стартапов"
   ]
  },
  {
   "cell_type": "markdown",
   "id": "0c315185",
   "metadata": {},
   "source": [
    "### 3.1. Объединение данных\n",
    "\n",
    "Объединим таблицы для анализа компании, которые меняли или готовы менять владельцев. \n",
    "\n",
    "Получение инвестиций или финансирования, по мнению заказчика, означает интерес к покупке или продаже компании.\n",
    "\n",
    "Выбераем только те компании, у которых указаны значения:\n",
    "- funding_rounds больше нуля.\n",
    "или \n",
    "- investment_rounds больше нуля, \n",
    "или \n",
    "- status указано acquired."
   ]
  },
  {
   "cell_type": "code",
   "execution_count": 36,
   "id": "d0121d94",
   "metadata": {},
   "outputs": [
    {
     "name": "stdout",
     "output_type": "stream",
     "text": [
      "<class 'pandas.core.frame.DataFrame'>\n",
      "Int64Index: 40747 entries, 0 to 217469\n",
      "Data columns (total 13 columns):\n",
      " #   Column             Non-Null Count  Dtype  \n",
      "---  ------             --------------  -----  \n",
      " 0   company_id         40747 non-null  float64\n",
      " 1   name               40747 non-null  object \n",
      " 2   category_code      35315 non-null  object \n",
      " 3   status             40747 non-null  object \n",
      " 4   founded_at         27807 non-null  object \n",
      " 5   closed_at          2128 non-null   object \n",
      " 6   domain             35754 non-null  object \n",
      " 7   network_username   20850 non-null  object \n",
      " 8   country_code       34742 non-null  object \n",
      " 9   investment_rounds  40747 non-null  float64\n",
      " 10  funding_rounds     40747 non-null  float64\n",
      " 11  funding_total      40747 non-null  float64\n",
      " 12  milestones         40747 non-null  float64\n",
      "dtypes: float64(5), object(8)\n",
      "memory usage: 4.4+ MB\n"
     ]
    },
    {
     "data": {
      "text/html": [
       "<div>\n",
       "<style scoped>\n",
       "    .dataframe tbody tr th:only-of-type {\n",
       "        vertical-align: middle;\n",
       "    }\n",
       "\n",
       "    .dataframe tbody tr th {\n",
       "        vertical-align: top;\n",
       "    }\n",
       "\n",
       "    .dataframe thead th {\n",
       "        text-align: right;\n",
       "    }\n",
       "</style>\n",
       "<table border=\"1\" class=\"dataframe\">\n",
       "  <thead>\n",
       "    <tr style=\"text-align: right;\">\n",
       "      <th></th>\n",
       "      <th>company_id</th>\n",
       "      <th>name</th>\n",
       "      <th>category_code</th>\n",
       "      <th>status</th>\n",
       "      <th>founded_at</th>\n",
       "      <th>closed_at</th>\n",
       "      <th>domain</th>\n",
       "      <th>network_username</th>\n",
       "      <th>country_code</th>\n",
       "      <th>investment_rounds</th>\n",
       "      <th>funding_rounds</th>\n",
       "      <th>funding_total</th>\n",
       "      <th>milestones</th>\n",
       "    </tr>\n",
       "  </thead>\n",
       "  <tbody>\n",
       "    <tr>\n",
       "      <th>0</th>\n",
       "      <td>1.0</td>\n",
       "      <td>Wetpaint</td>\n",
       "      <td>web</td>\n",
       "      <td>operating</td>\n",
       "      <td>2005-10-17</td>\n",
       "      <td>NaN</td>\n",
       "      <td>wetpaint-inc.com</td>\n",
       "      <td>BachelrWetpaint</td>\n",
       "      <td>USA</td>\n",
       "      <td>0.0</td>\n",
       "      <td>3.0</td>\n",
       "      <td>39750000.0</td>\n",
       "      <td>5.0</td>\n",
       "    </tr>\n",
       "    <tr>\n",
       "      <th>3</th>\n",
       "      <td>10.0</td>\n",
       "      <td>Flektor</td>\n",
       "      <td>games_video</td>\n",
       "      <td>acquired</td>\n",
       "      <td>NaN</td>\n",
       "      <td>NaN</td>\n",
       "      <td>flektor.com</td>\n",
       "      <td>NaN</td>\n",
       "      <td>USA</td>\n",
       "      <td>0.0</td>\n",
       "      <td>0.0</td>\n",
       "      <td>0.0</td>\n",
       "      <td>0.0</td>\n",
       "    </tr>\n",
       "    <tr>\n",
       "      <th>4</th>\n",
       "      <td>100.0</td>\n",
       "      <td>There</td>\n",
       "      <td>games_video</td>\n",
       "      <td>acquired</td>\n",
       "      <td>NaN</td>\n",
       "      <td>NaN</td>\n",
       "      <td>there.com</td>\n",
       "      <td>NaN</td>\n",
       "      <td>USA</td>\n",
       "      <td>0.0</td>\n",
       "      <td>0.0</td>\n",
       "      <td>0.0</td>\n",
       "      <td>4.0</td>\n",
       "    </tr>\n",
       "    <tr>\n",
       "      <th>15</th>\n",
       "      <td>1001.0</td>\n",
       "      <td>FriendFeed</td>\n",
       "      <td>web</td>\n",
       "      <td>acquired</td>\n",
       "      <td>2007-10-01</td>\n",
       "      <td>NaN</td>\n",
       "      <td>friendfeed.com</td>\n",
       "      <td>friendfeed</td>\n",
       "      <td>USA</td>\n",
       "      <td>0.0</td>\n",
       "      <td>1.0</td>\n",
       "      <td>5000000.0</td>\n",
       "      <td>3.0</td>\n",
       "    </tr>\n",
       "    <tr>\n",
       "      <th>20</th>\n",
       "      <td>10014.0</td>\n",
       "      <td>Mobclix</td>\n",
       "      <td>mobile</td>\n",
       "      <td>acquired</td>\n",
       "      <td>2008-03-01</td>\n",
       "      <td>NaN</td>\n",
       "      <td>mobclix.com</td>\n",
       "      <td>mobclix</td>\n",
       "      <td>USA</td>\n",
       "      <td>0.0</td>\n",
       "      <td>1.0</td>\n",
       "      <td>0.0</td>\n",
       "      <td>4.0</td>\n",
       "    </tr>\n",
       "  </tbody>\n",
       "</table>\n",
       "</div>"
      ],
      "text/plain": [
       "    company_id        name category_code     status  founded_at closed_at  \\\n",
       "0          1.0    Wetpaint           web  operating  2005-10-17       NaN   \n",
       "3         10.0     Flektor   games_video   acquired         NaN       NaN   \n",
       "4        100.0       There   games_video   acquired         NaN       NaN   \n",
       "15      1001.0  FriendFeed           web   acquired  2007-10-01       NaN   \n",
       "20     10014.0     Mobclix        mobile   acquired  2008-03-01       NaN   \n",
       "\n",
       "              domain network_username country_code  investment_rounds  \\\n",
       "0   wetpaint-inc.com  BachelrWetpaint          USA                0.0   \n",
       "3        flektor.com              NaN          USA                0.0   \n",
       "4          there.com              NaN          USA                0.0   \n",
       "15    friendfeed.com       friendfeed          USA                0.0   \n",
       "20       mobclix.com          mobclix          USA                0.0   \n",
       "\n",
       "    funding_rounds  funding_total  milestones  \n",
       "0              3.0     39750000.0         5.0  \n",
       "3              0.0            0.0         0.0  \n",
       "4              0.0            0.0         4.0  \n",
       "15             1.0      5000000.0         3.0  \n",
       "20             1.0            0.0         4.0  "
      ]
     },
     "execution_count": 36,
     "metadata": {},
     "output_type": "execute_result"
    }
   ],
   "source": [
    "# Выбираем нужный список компаний\n",
    "df_company_filter=df_company[(df_company['funding_rounds']>0)|(df_company['investment_rounds']>0)|(df_company['status'] == 'acquired')]\n",
    "\n",
    "df_company_filter.info()\n",
    "\n",
    "df_company_filter.head()"
   ]
  },
  {
   "cell_type": "markdown",
   "id": "60b9c4f2",
   "metadata": {},
   "source": [
    "### 3.2. Анализ выбросов\n",
    "\n",
    "Проанализируем обычный для рассматриваемого периода размер средств, который предоставлялся компаниям."
   ]
  },
  {
   "cell_type": "code",
   "execution_count": 37,
   "id": "ad25fff2",
   "metadata": {},
   "outputs": [
    {
     "data": {
      "image/png": "[encoded data removed]",
      "text/plain": [
       "<Figure size 504x144 with 1 Axes>"
      ]
     },
     "metadata": {
      "needs_background": "light"
     },
     "output_type": "display_data"
    },
    {
     "data": {
      "text/plain": [
       "count    4.074700e+04\n",
       "mean     1.013561e+07\n",
       "std      5.646436e+07\n",
       "min      0.000000e+00\n",
       "25%      0.000000e+00\n",
       "50%      6.000000e+05\n",
       "75%      5.650650e+06\n",
       "max      5.700000e+09\n",
       "Name: funding_total, dtype: float64"
      ]
     },
     "execution_count": 37,
     "metadata": {},
     "output_type": "execute_result"
    }
   ],
   "source": [
    "# Создаём контейнер графика matplotlib и задаём его размер\n",
    "plt.figure(figsize=(7, 2))\n",
    "\n",
    "# Строим диаграмму размаха значений в столбце rating\n",
    "df_company_filter.boxplot(column='funding_total', vert=False)\n",
    "\n",
    "# Добавляем заголовок и метки оси\n",
    "plt.title('Распределение размера средств для компаний')\n",
    "plt.xlabel('Размер средств')\n",
    "\n",
    "# Выводим график\n",
    "plt.show()\n",
    "\n",
    "#Выводим меры центральной тенденции\n",
    "df_company_filter['funding_total'].describe()"
   ]
  },
  {
   "cell_type": "markdown",
   "id": "42d4e568",
   "metadata": {},
   "source": [
    "#### Выводы по диаграмме размаха\n",
    "\n",
    "График  отобразил значение 1e9 - значения в 1 000 000 000 единицах (млрд) и это не очень информативно.\n",
    "\n",
    "По диаграмме размаха выбросы начинаются примерно после 1 300 000 000 у.е. (1.3 млрд)\n",
    "\n",
    "---\n",
    "\n",
    "#### Изучаем меры центральной тенденци:\n",
    "\n",
    "count = 4.074700e+04 = 40,747 (количество наблюдений)\n",
    "\n",
    "mean = 1.013561e+07 = 10 135 610 (среднее значение ~10.1 миллионов)\n",
    "\n",
    "std = 5.646436e+07 = 56 464 360 (стандартное отклонение ~56.5 миллионов)\n",
    "\n",
    "min = 0.000000e+00 = 0 (минимум)\n",
    "\n",
    "25% = 0.000000e+00 = 0 (первый квартиль)\n",
    "\n",
    "50% = 6.000000e+05 = 600 000 (медиана ~600 тысяч)\n",
    "\n",
    "75% = 5.650650e+06 = 5 650 650 (третий квартиль ~5.65 миллионов)\n",
    "\n",
    "max = 5.700000e+09 = 5 700 000 000 (максимум ~5.7 миллиардов)\n",
    "\n",
    "\n",
    "#### Выводы по мерам центральной тенденции:\n",
    "\n",
    "1. 25% компаний: Не получили финансирования (0)\n",
    "\n",
    "2. Медиана (50%): 600,000 - типичный стартап получил ~600 тыс.\n",
    "\n",
    "3. Среднее значение: 10.1 млн - сильно выше медианы, что указывает на правостороннюю асимметрию (несколько стартапов с огромным финансированием тянут среднее вверх)\n",
    "\n",
    "4. Максимум: 5.7 млрд - экстремальный выброс"
   ]
  },
  {
   "cell_type": "markdown",
   "id": "b2e066e6",
   "metadata": {},
   "source": [
    "---\n",
    "Для корректной визуалиции распределения возьмем:\n",
    "\n",
    "- Компании в которых, хотябы что-то проинвестировали\n",
    "- Но не более 5 650 650 (75 квартиль данных)"
   ]
  },
  {
   "cell_type": "code",
   "execution_count": 38,
   "id": "8b5ac871",
   "metadata": {},
   "outputs": [
    {
     "data": {
      "image/png": "[encoded data removed]",
      "text/plain": [
       "<Figure size 504x216 with 1 Axes>"
      ]
     },
     "metadata": {
      "needs_background": "light"
     },
     "output_type": "display_data"
    }
   ],
   "source": [
    "# Убираем из\n",
    "filtered_funding_total = df_company_filter[(df_company_filter['funding_total']>0)&(df_company_filter['funding_total']<5650650)]\n",
    "\n",
    "# Создаём контейнер графика matplotlib и задаём его размер\n",
    "plt.figure(figsize=(7, 3))\n",
    "\n",
    "# Строим гистограмму с помощью pandas через plot(kind='hist')\n",
    "filtered_funding_total['funding_total'].plot(\n",
    "                kind='hist', # Тип графика - гистограмма\n",
    "                bins=25, # Устанавливаем количество корзин - всего 25\n",
    "                alpha=0.75,\n",
    "                edgecolor='black',\n",
    "                rot=0, # Градус вращения подписи по оси Х\n",
    ")\n",
    "\n",
    "# Настраиваем оформление графика\n",
    "plt.title('Распределение размера средств для компаний')\n",
    "plt.xlabel('Размер средств млн у.е.')\n",
    "plt.ylabel('Частота')\n",
    "# Добавляем сетку графика\n",
    "plt.grid()\n",
    "\n",
    "# Выводим график\n",
    "plt.show()"
   ]
  },
  {
   "cell_type": "markdown",
   "id": "56db52f7",
   "metadata": {},
   "source": [
    "По графику распределения видена правосторонняя ассиметрия данных.\n",
    "\n",
    "Самый популярной суммой инвестирования до 250 000 у.е. судя по графику."
   ]
  },
  {
   "cell_type": "markdown",
   "id": "27d27d89",
   "metadata": {},
   "source": [
    "### 3.3. Анализ бесплатных покупок\n",
    "\n",
    "Исследуем компании, которые были проданы за ноль или за один доллар, и при этом известно, что у них был ненулевой общий объём финансирования.\n"
   ]
  },
  {
   "cell_type": "code",
   "execution_count": 39,
   "id": "b3545364",
   "metadata": {},
   "outputs": [
    {
     "name": "stdout",
     "output_type": "stream",
     "text": [
      "Количество компаний\n"
     ]
    },
    {
     "data": {
      "text/plain": [
       "192"
      ]
     },
     "execution_count": 39,
     "metadata": {},
     "output_type": "execute_result"
    }
   ],
   "source": [
    "#Объединяем таблицу раундов и компаний\n",
    "company_acquired = df_rounds.merge(df_company,on='company_id',how='left')\n",
    "\n",
    "#Сделаем отдельную выборку \"бесплатно\" проданных компаний с не нулевым финансированием\n",
    "company_acquired_free = company_acquired[(company_acquired['raised_amount']<2)&(company_acquired['funding_total']>0)&(company_acquired['status']=='acquired')]\n",
    "\n",
    "#Считаем количество компаний\n",
    "print(f'Количество компаний')\n",
    "company_acquired_free['funding_total'].count()"
   ]
  },
  {
   "cell_type": "markdown",
   "id": "249dbc00",
   "metadata": {},
   "source": [
    "Рассчитаем аналитически верхнюю и нижнюю границу выбросов для столбца funding_total и укажим, каким процентилям границы соответствуют."
   ]
  },
  {
   "cell_type": "code",
   "execution_count": 40,
   "id": "b407e86b",
   "metadata": {
    "scrolled": true
   },
   "outputs": [
    {
     "name": "stdout",
     "output_type": "stream",
     "text": [
      "25 процентиль - 1705000.0\n",
      "75 процентиль - 24812500.0\n",
      "Межквартильный размах - 23107500.0\n",
      "Нижняя граница выбросов - -32956250.0\n",
      "Верхняя граница выбросов - 59473750.0\n"
     ]
    }
   ],
   "source": [
    "#Считаем 25 процентиль\n",
    "Q1 = np.percentile(company_acquired_free['funding_total'], 25)\n",
    "#Считаем 75 процентиль\n",
    "Q3 = np.percentile(company_acquired_free['funding_total'], 75)\n",
    "\n",
    "#Считаем межквартильный размах (IQR):\n",
    "IQR = Q3 - Q1\n",
    "\n",
    "#Определяем границы выбросов\n",
    "lower_bound = Q1 - 1.5 * IQR\n",
    "upper_bound = Q3 + 1.5 * IQR\n",
    "\n",
    "print(f'25 процентиль - {Q1}')\n",
    "print(f'75 процентиль - {Q3}')\n",
    "\n",
    "print(f'Межквартильный размах - {IQR}')\n",
    "print(f'Нижняя граница выбросов - {lower_bound}')\n",
    "print(f'Верхняя граница выбросов - {upper_bound}')"
   ]
  },
  {
   "cell_type": "code",
   "execution_count": 41,
   "id": "308a2735",
   "metadata": {},
   "outputs": [
    {
     "name": "stdout",
     "output_type": "stream",
     "text": [
      "Верхняя граница: 59,473,750.00\n",
      "Соответствует процентилю: 91.15%\n",
      "Процент выбросов: 8.85%\n"
     ]
    }
   ],
   "source": [
    "# Расчет процентиля для верхней границы и процента выбросов\n",
    "count_below = np.sum(company_acquired_free['funding_total']<= upper_bound)\n",
    "total_str = len(company_acquired_free['funding_total'])\n",
    "percentile = (count_below / total_str) * 100\n",
    "\n",
    "print(f\"Верхняя граница: {upper_bound:,.2f}\")\n",
    "print(f\"Соответствует процентилю: {percentile:.2f}%\")\n",
    "print(f\"Процент выбросов: {100 - percentile:.2f}%\")"
   ]
  },
  {
   "cell_type": "markdown",
   "id": "70382e9b",
   "metadata": {},
   "source": [
    "### Выводы по бесплатным покупкам:\n",
    "\n",
    "Изучая 192 компании, купленные \"бесплатно\" мы выявили:\n",
    "\n",
    "Отрицательную нижнюю границу выбросов.\n",
    "\n",
    "Это нормальное явление для данных с:\n",
    "\n",
    "- Огромным разбросом (большой IQR)\n",
    "- Правосторонней асимметрией\n",
    "\n",
    "Другими словами, выбросы имеются только с правой стороны.\n",
    "\n",
    "Верхняя граница выбросов соответствует процентилю: 91.15%\n",
    "\n",
    "Итоговый процент выбросов в выборке: 8.85%"
   ]
  },
  {
   "cell_type": "markdown",
   "id": "c3e3be4b",
   "metadata": {},
   "source": [
    "### 3.4. Анализ цен стартапов по категориям\n",
    "\n",
    "Категории стартапов с типично высокими ценами покупки стартапов и значительным разбросом цен могут быть привлекательными для крупных инвесторов, которые готовы к высоким рискам ради потенциально больших доходов. \n",
    "\n",
    "\n",
    "Среди категорий стартапов выделим категории стартапов, характеризующиеся:\n",
    "\n",
    "- типично высокими ценами;\n",
    "- наибольшим разбросом цен за стартап."
   ]
  },
  {
   "cell_type": "code",
   "execution_count": 42,
   "id": "a33a1291",
   "metadata": {
    "scrolled": true
   },
   "outputs": [
    {
     "data": {
      "image/png": "[encoded data removed]",
      "text/plain": [
       "<Figure size 504x144 with 1 Axes>"
      ]
     },
     "metadata": {
      "needs_background": "light"
     },
     "output_type": "display_data"
    }
   ],
   "source": [
    "# Группируем компании по размеру покупки\n",
    "company_acquired_raised = company_acquired.groupby('company_id')['raised_amount'].sum()\n",
    "\n",
    "# Сбрасываем индексы с серии\n",
    "company_acquired_raised = company_acquired_raised.reset_index()\n",
    "\n",
    "# Создаём контейнер графика matplotlib и задаём его размер\n",
    "plt.figure(figsize=(7, 2))\n",
    "\n",
    "# Строим диаграмму размаха значений в столбце rating\n",
    "company_acquired_raised.boxplot(column='raised_amount', vert=False)\n",
    "\n",
    "# Добавляем заголовок и метки оси\n",
    "plt.title('Распределение суммы продажи компаний')\n",
    "plt.xlabel('Размер средств')\n",
    "\n",
    "# Выводим график\n",
    "plt.show()"
   ]
  },
  {
   "cell_type": "code",
   "execution_count": 43,
   "id": "355b5029",
   "metadata": {},
   "outputs": [
    {
     "name": "stdout",
     "output_type": "stream",
     "text": [
      "25 процентиль - 200000.0\n",
      "75 процентиль - 9106395.0\n",
      "Межквартильный размах - 8906395.0\n",
      "Нижняя граница выбросов - -13159592.5\n",
      "Верхняя граница выбросов - 22465987.5\n"
     ]
    }
   ],
   "source": [
    "#Считаем 25 процентиль\n",
    "Q1 = np.percentile(company_acquired_raised['raised_amount'], 25)\n",
    "#Считаем 75 процентиль\n",
    "Q3 = np.percentile(company_acquired_raised['raised_amount'], 75)\n",
    "\n",
    "#Считаем межквартильный размах (IQR):\n",
    "IQR = Q3 - Q1\n",
    "\n",
    "#Определяем границы выбросов\n",
    "lower_bound = Q1 - 1.5 * IQR\n",
    "upper_bound = Q3 + 1.5 * IQR\n",
    "\n",
    "print(f'25 процентиль - {Q1}')\n",
    "print(f'75 процентиль - {Q3}')\n",
    "\n",
    "print(f'Межквартильный размах - {IQR}')\n",
    "print(f'Нижняя граница выбросов - {lower_bound}')\n",
    "print(f'Верхняя граница выбросов - {upper_bound}')"
   ]
  },
  {
   "cell_type": "markdown",
   "id": "43063d02",
   "metadata": {},
   "source": [
    "### Выводы по разделениям на категории:\n",
    "\n",
    "Изучая диаграмму размаха и показатели выбросов, к нужной нам категории можно отнести компании, которые находяться начиная с верхней границы выбросов.\n",
    "\n",
    "Разделим на 2 категории:\n",
    "- `cheap` - условно дешевые компании\n",
    "- `dear` - которые находятся на верхнем значение выбросов и имеют большую цену"
   ]
  },
  {
   "cell_type": "code",
   "execution_count": 44,
   "id": "1054df07",
   "metadata": {
    "scrolled": true
   },
   "outputs": [
    {
     "name": "stdout",
     "output_type": "stream",
     "text": [
      "   company_id  raised_amount raised_group\n",
      "0         1.0   3.975000e+07        cheap\n",
      "1         4.0   4.500000e+07        cheap\n",
      "2         5.0   2.425700e+09         dear\n",
      "3         7.0   8.000000e+05        cheap\n",
      "4         9.0   1.650000e+07        cheap\n"
     ]
    }
   ],
   "source": [
    "#Добавляем категории\n",
    "company_acquired_raised['raised_group'] = pd.cut(\n",
    "    company_acquired['raised_amount'],\n",
    "    bins=[0,22465987,5700000000],\n",
    "    labels=[\"cheap\", \"dear\"],\n",
    "    right=True,\n",
    "    include_lowest=True\n",
    ")\n",
    "\n",
    "print(company_acquired_raised.head())"
   ]
  },
  {
   "cell_type": "markdown",
   "id": "993f00c9",
   "metadata": {},
   "source": [
    "### 3.5. Анализ раундов стартапа перед покупкой\n",
    "\n",
    "Заказчика интересует типичное значение количества раундов для каждого возможного статуса стартапа.\n",
    "\n",
    "Подготовим отдельную сгруппированную таблицу и постройте график, который отображает, сколько в среднем раундов финансирования проходило для стартапов из каждой группы."
   ]
  },
  {
   "cell_type": "code",
   "execution_count": 45,
   "id": "0adcbe53",
   "metadata": {},
   "outputs": [
    {
     "name": "stdout",
     "output_type": "stream",
     "text": [
      "status\n",
      "acquired     2.758438\n",
      "closed       1.886505\n",
      "ipo          4.471729\n",
      "operating    2.491418\n",
      "Name: funding_rounds, dtype: float64\n"
     ]
    },
    {
     "data": {
      "image/png": "[encoded data removed]",
      "text/plain": [
       "<Figure size 504x216 with 1 Axes>"
      ]
     },
     "metadata": {
      "needs_background": "light"
     },
     "output_type": "display_data"
    }
   ],
   "source": [
    "round_status = company_acquired.groupby('status')['funding_rounds'].mean()\n",
    "\n",
    "print(round_status)\n",
    "\n",
    "# Сортируем значения\n",
    "round_status_sort = round_status.sort_values()\n",
    "\n",
    "# Создаём контейнер графика matplotlib и задаём его размер\n",
    "plt.figure(figsize=(7, 3))\n",
    "\n",
    "# Строим диаграмму\n",
    "round_status_sort.plot(\n",
    "               kind='barh',\n",
    "               rot=0,\n",
    "               legend=False,\n",
    "               title=f'Распределение раундов в зависимости от статуса стартапа'\n",
    ")\n",
    "\n",
    "# Настраиваем оформление графика\n",
    "plt.ylabel('Статусы стартапа')\n",
    "plt.xlabel('Количество раундов')\n",
    "# Добавляем сетку графика\n",
    "plt.grid()\n",
    "\n",
    "# Выводим график\n",
    "plt.show()\n"
   ]
  },
  {
   "cell_type": "markdown",
   "id": "ce07928f",
   "metadata": {},
   "source": [
    "## Подведём итоги\n",
    "\n",
    "В ходе исследования проанализировали данные 217 774 стартапов. \n",
    "\n",
    "Данные включали 5 таблиц в которых хранилась: \n",
    "\n",
    "- информация компаниях и инвестиционных раундах, \n",
    "- информация о сотрудниках компаний и их образовании\n",
    "\n",
    "Акцент исследования был на том, чтобы оценить корректость данных, провести качественную предобработку и провести анализ стартапов.\n",
    "\n",
    "В ходе анализа была выполнена:\n",
    "\n",
    "1) Загрузка данных и знакомство с ними.\n",
    "\n",
    "2) Предобработка данных:\n",
    "\n",
    "- Датасет `company_and_rounds_df` был разделен на:\n",
    "   - df_company\n",
    "   - df_rounds\n",
    "- Из датасетов были убраны дубликаты и пропуски в ключевых колонках (`company_id` и `funding_round_type`)\n",
    "- Проанализировали способы соединения таблиц и выбран оптимальный для максимального обогащения данных (столбец `company_id`)\n",
    "\n",
    "\n",
    "3) Исследовательский анализ данных:\n",
    "\n",
    "- Проведена аналитика пропусков данных в образовании сотрудников (относительно размера компаний)\n",
    "- Проведена аналитика типичных размеров собранных в рамках одного раунда средств по годам (Вывели кривую роста и падения трендов)\n",
    "- Проанализированы выбросы данных по размеру инвестиций у компаний\n",
    "- Проведена аналитика \"бесплатных\" продаж, размер сделок которых составлял 0 или 1 у.е.\n",
    "- Проведена аналитика стартапов по категориям итоговой стоимости сделки\n",
    "- Проведена аналитика распределение количества раундов в зависимости от статуса стартапа\n",
    "\n",
    "\n",
    "4) Построены выводы по каждому этапу анализа и подготовлены рекомендации.\n",
    "\n",
    "---\n",
    "\n",
    "\n",
    "### Ответы на исследовательские вопросы\n",
    "\n",
    "В результате исследования были:\n",
    "\n",
    "1. Определены категории компаний в зависимости от количества сотрудников (small, midle, large, top) и проанализированны пропуски\n",
    "\n",
    "   - 62% пропусков в графе образования имеют компаний small, которые относятся к стартапам на ранних стадиях\n",
    "\n",
    "   - 89% пропусков в графе образования имеют компаний medium, которые относятся к стартапам на более зрелых стадиях\n",
    "\n",
    "   - 93% пропусков в графе образования имеют компаний large, которые относятся к стартапам на этапах потенциального венчура\n",
    "\n",
    "   - 91% пропусков в графе образования имеют компаний top, которые относятся к крупным стартапам\n",
    "\n",
    "Другими словами, с увеличением размера компании, пропусков становится больше.\n",
    "\n",
    "2. По итогу исследования таблицы с инвестиционными раундамы по годам\n",
    "\n",
    "   - В 2005 году типичный размер собранных в рамках одного раунда средств был максимален\n",
    "   - В диапазоне 2006 по 2012 год наблюдается отрицательная тенденция по количеству раундов и выделяемых в рамках каждого раунда средств. В 2013 году снова начался небольшой подъем.\n",
    "   \n",
    "3. При анализе выброса данных по сумме инвестирования обнаружили:\n",
    "\n",
    "   - 25% компаний: Не получили финансирования (0)\n",
    "\n",
    "   - Типичный стартап получил ~600 тыс.\n",
    "\n",
    "4. Изучая 192 компании, купленные \"бесплатно\" мы выявили:\n",
    "\n",
    "   - Выбросы данных имеются только с правой стороны и верхняя граница выбросов соответствует процентилю: 91.15%\n",
    "   \n",
    "   - Итоговый процент выбросов в выборке: 8.85%\n",
    "\n",
    "5. Для определения категории дорогих `dear` определили минимальный парог от 22 465 987 у.е. и отметили эти компании\n",
    "\n",
    "6. Посчитали среднее количество шагов до реализации каждого шага стартапа:\n",
    "\n",
    "   - acquired     (2.76 раундов)\n",
    "   - closed       (1.89 раунд)\n",
    "   - ipo          (4.47 раунд)\n",
    "   - operating    (2.49 раунд)\n",
    "\n",
    "\n",
    "\n",
    "\n",
    "### Рекомендации\n",
    "\n",
    "Исследовательский анализ данных позволил ознакомиться с данными, оценить и определить ряд рекомендаций:\n",
    "\n",
    "- Для оценки сотрудников и поиска корреляций с результатами компаний требуется обогащение данных (так как размер пропусков в разрезе образования очень большой)\n",
    "\n",
    "- При поиске стартапа для его развития необходимо расчитывать на ~600 тыс у.е. инвестиций на старте.\n",
    "\n",
    "- Стартап стоит растить до уровня 22 465 987 у.е. для того, чтобы он стал потенциально интересен крупным инвесторам\n",
    "\n",
    "- В среднем стартап пройдет 2-3 раунда инвестирования, что стоит оценивать при планировании развития компании.\n",
    "\n",
    "."
   ]
  },
  {
   "cell_type": "code",
   "execution_count": null,
   "id": "fc153d44",
   "metadata": {},
   "outputs": [],
   "source": []
  }
 ],
 "metadata": {
  "ExecuteTimeLog": [
   {
    "duration": 9322,
    "start_time": "2025-07-16T10:48:17.535Z"
   },
   {
    "duration": 2162,
    "start_time": "2025-07-16T10:48:26.859Z"
   },
   {
    "duration": 39,
    "start_time": "2025-07-16T10:48:29.023Z"
   },
   {
    "duration": 109,
    "start_time": "2025-07-16T10:48:29.064Z"
   },
   {
    "duration": 8,
    "start_time": "2025-07-16T10:48:29.174Z"
   },
   {
    "duration": 125,
    "start_time": "2025-07-16T10:48:29.184Z"
   },
   {
    "duration": 9,
    "start_time": "2025-07-16T10:48:29.310Z"
   },
   {
    "duration": 40,
    "start_time": "2025-07-16T10:48:29.320Z"
   },
   {
    "duration": 7,
    "start_time": "2025-07-16T10:48:29.362Z"
   },
   {
    "duration": 27,
    "start_time": "2025-07-16T10:48:29.372Z"
   },
   {
    "duration": 9,
    "start_time": "2025-07-16T10:48:29.400Z"
   },
   {
    "duration": 26,
    "start_time": "2025-07-16T10:48:29.410Z"
   },
   {
    "duration": 53,
    "start_time": "2025-07-16T10:48:29.438Z"
   },
   {
    "duration": 128,
    "start_time": "2025-07-16T10:48:29.492Z"
   },
   {
    "duration": 10,
    "start_time": "2025-07-16T10:48:29.622Z"
   },
   {
    "duration": 40,
    "start_time": "2025-07-16T10:48:29.634Z"
   },
   {
    "duration": 138,
    "start_time": "2025-07-16T10:48:29.675Z"
   },
   {
    "duration": 383,
    "start_time": "2025-07-16T10:48:29.815Z"
   },
   {
    "duration": 98,
    "start_time": "2025-07-16T10:48:30.200Z"
   },
   {
    "duration": 99,
    "start_time": "2025-07-16T10:48:30.300Z"
   },
   {
    "duration": 355,
    "start_time": "2025-07-16T10:48:30.400Z"
   },
   {
    "duration": 21,
    "start_time": "2025-07-16T10:48:30.758Z"
   },
   {
    "duration": 155,
    "start_time": "2025-07-16T10:48:30.781Z"
   },
   {
    "duration": 46,
    "start_time": "2025-07-16T10:48:30.938Z"
   },
   {
    "duration": 10,
    "start_time": "2025-07-16T10:48:30.986Z"
   },
   {
    "duration": 12,
    "start_time": "2025-07-16T10:48:30.997Z"
   },
   {
    "duration": 378,
    "start_time": "2025-07-16T10:48:31.011Z"
   },
   {
    "duration": 29,
    "start_time": "2025-07-16T10:48:31.392Z"
   },
   {
    "duration": 37,
    "start_time": "2025-07-16T10:48:31.423Z"
   },
   {
    "duration": 58,
    "start_time": "2025-07-16T10:48:31.462Z"
   },
   {
    "duration": 57,
    "start_time": "2025-07-16T10:48:31.522Z"
   },
   {
    "duration": 75,
    "start_time": "2025-07-16T10:48:31.583Z"
   },
   {
    "duration": 163,
    "start_time": "2025-07-16T10:48:31.659Z"
   },
   {
    "duration": 135,
    "start_time": "2025-07-16T10:48:31.823Z"
   },
   {
    "duration": 149,
    "start_time": "2025-07-16T10:48:31.960Z"
   },
   {
    "duration": 32,
    "start_time": "2025-07-16T10:48:32.111Z"
   },
   {
    "duration": 271,
    "start_time": "2025-07-16T10:48:32.144Z"
   },
   {
    "duration": 21,
    "start_time": "2025-07-16T10:48:32.416Z"
   },
   {
    "duration": 83,
    "start_time": "2025-07-16T10:48:32.439Z"
   },
   {
    "duration": 23,
    "start_time": "2025-07-16T10:48:32.523Z"
   },
   {
    "duration": 80,
    "start_time": "2025-07-16T10:48:32.559Z"
   },
   {
    "duration": 96,
    "start_time": "2025-07-16T10:48:32.641Z"
   },
   {
    "duration": 107,
    "start_time": "2025-07-16T10:48:32.739Z"
   },
   {
    "duration": 96,
    "start_time": "2025-07-16T10:48:32.848Z"
   },
   {
    "duration": 56,
    "start_time": "2025-07-16T10:48:32.946Z"
   },
   {
    "duration": 28,
    "start_time": "2025-07-16T10:48:33.004Z"
   },
   {
    "duration": 43,
    "start_time": "2025-07-16T10:48:33.034Z"
   },
   {
    "duration": 59,
    "start_time": "2025-07-16T10:48:33.079Z"
   },
   {
    "duration": 34,
    "start_time": "2025-07-16T10:48:33.140Z"
   },
   {
    "duration": 107,
    "start_time": "2025-07-16T10:48:33.176Z"
   },
   {
    "duration": 28,
    "start_time": "2025-07-16T10:48:33.284Z"
   },
   {
    "duration": 26,
    "start_time": "2025-07-16T10:48:33.314Z"
   },
   {
    "duration": 44,
    "start_time": "2025-07-16T10:48:33.342Z"
   }
  ],
  "kernelspec": {
   "display_name": "Python 3 (ipykernel)",
   "language": "python",
   "name": "python3"
  },
  "language_info": {
   "codemirror_mode": {
    "name": "ipython",
    "version": 3
   },
   "file_extension": ".py",
   "mimetype": "text/x-python",
   "name": "python",
   "nbconvert_exporter": "python",
   "pygments_lexer": "ipython3",
   "version": "3.9.7"
  },
  "toc": {
   "base_numbering": 1,
   "nav_menu": {},
   "number_sections": true,
   "sideBar": true,
   "skip_h1_title": true,
   "title_cell": "Table of Contents",
   "title_sidebar": "Contents",
   "toc_cell": false,
   "toc_position": {},
   "toc_section_display": true,
   "toc_window_display": true
  }
 },
 "nbformat": 4,
 "nbformat_minor": 5
}
